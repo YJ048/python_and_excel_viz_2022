{
 "cells": [
  {
   "cell_type": "code",
   "execution_count": 2,
   "id": "5e6eac70",
   "metadata": {},
   "outputs": [
    {
     "name": "stdout",
     "output_type": "stream",
     "text": [
      "*\n",
      "*\n"
     ]
    }
   ],
   "source": [
    "i = 7\n",
    "while i>0:\n",
    "    i -= 3\n",
    "    print('*')\n",
    "    if i <= 2:\n",
    "        break\n",
    "else:\n",
    "        print('*')"
   ]
  },
  {
   "cell_type": "code",
   "execution_count": 1,
   "id": "fbdaf2d6",
   "metadata": {},
   "outputs": [
    {
     "data": {
      "text/plain": [
       "3"
      ]
     },
     "execution_count": 1,
     "metadata": {},
     "output_type": "execute_result"
    }
   ],
   "source": [
    "1 + 2"
   ]
  },
  {
   "cell_type": "code",
   "execution_count": 6,
   "id": "4ac9c541",
   "metadata": {},
   "outputs": [
    {
     "data": {
      "text/plain": [
       "22.0"
      ]
     },
     "execution_count": 6,
     "metadata": {},
     "output_type": "execute_result"
    }
   ],
   "source": [
    "(2+3.5) * 6 / (1.75-0.25)"
   ]
  },
  {
   "cell_type": "code",
   "execution_count": 4,
   "id": "13eeff8c",
   "metadata": {},
   "outputs": [
    {
     "data": {
      "text/plain": [
       "4"
      ]
     },
     "execution_count": 4,
     "metadata": {},
     "output_type": "execute_result"
    }
   ],
   "source": [
    "2**2"
   ]
  },
  {
   "cell_type": "code",
   "execution_count": 7,
   "id": "989e136f",
   "metadata": {},
   "outputs": [
    {
     "data": {
      "text/plain": [
       "245.0"
      ]
     },
     "execution_count": 7,
     "metadata": {},
     "output_type": "execute_result"
    }
   ],
   "source": [
    "500*(1-0.05) - 230"
   ]
  },
  {
   "cell_type": "code",
   "execution_count": 14,
   "id": "5165699d",
   "metadata": {},
   "outputs": [
    {
     "data": {
      "text/plain": [
       "245.0"
      ]
     },
     "execution_count": 14,
     "metadata": {},
     "output_type": "execute_result"
    }
   ],
   "source": [
    "storage = 500\n",
    "dump_rate = 0.05\n",
    "sold = 230\n",
    "\n",
    "storage*(1-dump_rate) - sold"
   ]
  },
  {
   "cell_type": "code",
   "execution_count": 15,
   "id": "d6467a4e",
   "metadata": {},
   "outputs": [
    {
     "name": "stdout",
     "output_type": "stream",
     "text": [
      "245.0\n"
     ]
    }
   ],
   "source": [
    "new_storage = storage*(1-dump_rate) - sold\n",
    "print(new_storage)"
   ]
  },
  {
   "cell_type": "code",
   "execution_count": 17,
   "id": "5af424c2",
   "metadata": {},
   "outputs": [
    {
     "name": "stdout",
     "output_type": "stream",
     "text": [
      "Say Hi: Hi\n",
      "Hello Hi\n"
     ]
    }
   ],
   "source": [
    "greetings = \"Hello \"\n",
    "name = input(\"Say Hi: \")\n",
    "\n",
    "print(greetings + name)"
   ]
  },
  {
   "cell_type": "code",
   "execution_count": 26,
   "id": "e31d3867",
   "metadata": {},
   "outputs": [
    {
     "data": {
      "text/plain": [
       "-2"
      ]
     },
     "execution_count": 26,
     "metadata": {},
     "output_type": "execute_result"
    }
   ],
   "source": [
    "x = 2\n",
    "y = 4\n",
    "\n",
    "x -= y\n",
    "x"
   ]
  },
  {
   "cell_type": "code",
   "execution_count": 28,
   "id": "592f7b89",
   "metadata": {},
   "outputs": [
    {
     "name": "stdout",
     "output_type": "stream",
     "text": [
      "<class 'int'>\n",
      "<class 'float'>\n",
      "<class 'str'>\n"
     ]
    }
   ],
   "source": [
    "x = 2\n",
    "y = 2.0\n",
    "z = \"2\"\n",
    "\n",
    "print(type(x))\n",
    "print(type(y))\n",
    "print(type(z))"
   ]
  },
  {
   "cell_type": "code",
   "execution_count": 5,
   "id": "a18d94ac",
   "metadata": {},
   "outputs": [
    {
     "data": {
      "text/plain": [
       "'9876'"
      ]
     },
     "execution_count": 5,
     "metadata": {},
     "output_type": "execute_result"
    }
   ],
   "source": [
    "s = \"123456789\"\n",
    "\n",
    "s[:4:-1]"
   ]
  }
 ],
 "metadata": {
  "kernelspec": {
   "display_name": "Python 3 (ipykernel)",
   "language": "python",
   "name": "python3"
  },
  "language_info": {
   "codemirror_mode": {
    "name": "ipython",
    "version": 3
   },
   "file_extension": ".py",
   "mimetype": "text/x-python",
   "name": "python",
   "nbconvert_exporter": "python",
   "pygments_lexer": "ipython3",
   "version": "3.8.12"
  }
 },
 "nbformat": 4,
 "nbformat_minor": 5
}
