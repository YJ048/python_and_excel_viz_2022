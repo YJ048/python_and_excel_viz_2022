{
 "cells": [
  {
   "cell_type": "code",
   "execution_count": 20,
   "id": "9a533db1",
   "metadata": {},
   "outputs": [],
   "source": [
    "import matplotlib.pyplot as plt\n",
    "import matplotlib.cbook as cbook\n",
    "import matplotlib.animation as animation\n",
    "\n",
    "import numpy as np\n",
    "import pandas as pd\n",
    "import math"
   ]
  },
  {
   "cell_type": "code",
   "execution_count": 4,
   "id": "3f8e3bb4",
   "metadata": {},
   "outputs": [],
   "source": [
    "'''\n",
    "cbook:\n",
    "A collection of utility functions and classes. Originally, many (but not all) were from the Python Cookbook -- hence the name cbook.\n",
    "\n",
    "This module is safe to import from anywhere within Matplotlib; it imports Matplotlib only at runtime.\n",
    "\n",
    "https://matplotlib.org/3.2.2/gallery/misc/plotfile_demo_sgskip.html\n",
    "https://matplotlib.org/stable/api/cbook_api.html#\n",
    "'''\n",
    "fname = cbook.get_sample_data('msft.csv', asfileobj=False)\n",
    "\n",
    "with cbook.get_sample_data('msft.csv') as file:\n",
    "    msft = pd.read_csv(file)"
   ]
  },
  {
   "cell_type": "code",
   "execution_count": 5,
   "id": "08da90e8",
   "metadata": {},
   "outputs": [
    {
     "data": {
      "text/html": [
       "<div>\n",
       "<style scoped>\n",
       "    .dataframe tbody tr th:only-of-type {\n",
       "        vertical-align: middle;\n",
       "    }\n",
       "\n",
       "    .dataframe tbody tr th {\n",
       "        vertical-align: top;\n",
       "    }\n",
       "\n",
       "    .dataframe thead th {\n",
       "        text-align: right;\n",
       "    }\n",
       "</style>\n",
       "<table border=\"1\" class=\"dataframe\">\n",
       "  <thead>\n",
       "    <tr style=\"text-align: right;\">\n",
       "      <th></th>\n",
       "      <th>Date</th>\n",
       "      <th>Open</th>\n",
       "      <th>High</th>\n",
       "      <th>Low</th>\n",
       "      <th>Close</th>\n",
       "      <th>Volume</th>\n",
       "      <th>Adj. Close*</th>\n",
       "    </tr>\n",
       "  </thead>\n",
       "  <tbody>\n",
       "    <tr>\n",
       "      <th>0</th>\n",
       "      <td>19-Sep-03</td>\n",
       "      <td>29.76</td>\n",
       "      <td>29.97</td>\n",
       "      <td>29.52</td>\n",
       "      <td>29.96</td>\n",
       "      <td>92433800</td>\n",
       "      <td>29.79</td>\n",
       "    </tr>\n",
       "    <tr>\n",
       "      <th>1</th>\n",
       "      <td>18-Sep-03</td>\n",
       "      <td>28.49</td>\n",
       "      <td>29.51</td>\n",
       "      <td>28.42</td>\n",
       "      <td>29.50</td>\n",
       "      <td>67268096</td>\n",
       "      <td>29.34</td>\n",
       "    </tr>\n",
       "    <tr>\n",
       "      <th>2</th>\n",
       "      <td>17-Sep-03</td>\n",
       "      <td>28.76</td>\n",
       "      <td>28.95</td>\n",
       "      <td>28.47</td>\n",
       "      <td>28.50</td>\n",
       "      <td>47221600</td>\n",
       "      <td>28.34</td>\n",
       "    </tr>\n",
       "    <tr>\n",
       "      <th>3</th>\n",
       "      <td>16-Sep-03</td>\n",
       "      <td>28.41</td>\n",
       "      <td>28.95</td>\n",
       "      <td>28.32</td>\n",
       "      <td>28.90</td>\n",
       "      <td>52060600</td>\n",
       "      <td>28.74</td>\n",
       "    </tr>\n",
       "    <tr>\n",
       "      <th>4</th>\n",
       "      <td>15-Sep-03</td>\n",
       "      <td>28.37</td>\n",
       "      <td>28.61</td>\n",
       "      <td>28.33</td>\n",
       "      <td>28.36</td>\n",
       "      <td>41432300</td>\n",
       "      <td>28.20</td>\n",
       "    </tr>\n",
       "    <tr>\n",
       "      <th>...</th>\n",
       "      <td>...</td>\n",
       "      <td>...</td>\n",
       "      <td>...</td>\n",
       "      <td>...</td>\n",
       "      <td>...</td>\n",
       "      <td>...</td>\n",
       "      <td>...</td>\n",
       "    </tr>\n",
       "    <tr>\n",
       "      <th>60</th>\n",
       "      <td>25-Jun-03</td>\n",
       "      <td>25.64</td>\n",
       "      <td>25.99</td>\n",
       "      <td>25.14</td>\n",
       "      <td>25.26</td>\n",
       "      <td>60483500</td>\n",
       "      <td>25.12</td>\n",
       "    </tr>\n",
       "    <tr>\n",
       "      <th>61</th>\n",
       "      <td>24-Jun-03</td>\n",
       "      <td>25.65</td>\n",
       "      <td>26.04</td>\n",
       "      <td>25.52</td>\n",
       "      <td>25.70</td>\n",
       "      <td>51820300</td>\n",
       "      <td>25.56</td>\n",
       "    </tr>\n",
       "    <tr>\n",
       "      <th>62</th>\n",
       "      <td>23-Jun-03</td>\n",
       "      <td>26.14</td>\n",
       "      <td>26.24</td>\n",
       "      <td>25.49</td>\n",
       "      <td>25.78</td>\n",
       "      <td>52584500</td>\n",
       "      <td>25.64</td>\n",
       "    </tr>\n",
       "    <tr>\n",
       "      <th>63</th>\n",
       "      <td>20-Jun-03</td>\n",
       "      <td>26.34</td>\n",
       "      <td>26.38</td>\n",
       "      <td>26.01</td>\n",
       "      <td>26.33</td>\n",
       "      <td>86048896</td>\n",
       "      <td>26.18</td>\n",
       "    </tr>\n",
       "    <tr>\n",
       "      <th>64</th>\n",
       "      <td>19-Jun-03</td>\n",
       "      <td>26.09</td>\n",
       "      <td>26.39</td>\n",
       "      <td>26.01</td>\n",
       "      <td>26.07</td>\n",
       "      <td>63626900</td>\n",
       "      <td>25.92</td>\n",
       "    </tr>\n",
       "  </tbody>\n",
       "</table>\n",
       "<p>65 rows × 7 columns</p>\n",
       "</div>"
      ],
      "text/plain": [
       "         Date   Open   High    Low  Close    Volume  Adj. Close*\n",
       "0   19-Sep-03  29.76  29.97  29.52  29.96  92433800        29.79\n",
       "1   18-Sep-03  28.49  29.51  28.42  29.50  67268096        29.34\n",
       "2   17-Sep-03  28.76  28.95  28.47  28.50  47221600        28.34\n",
       "3   16-Sep-03  28.41  28.95  28.32  28.90  52060600        28.74\n",
       "4   15-Sep-03  28.37  28.61  28.33  28.36  41432300        28.20\n",
       "..        ...    ...    ...    ...    ...       ...          ...\n",
       "60  25-Jun-03  25.64  25.99  25.14  25.26  60483500        25.12\n",
       "61  24-Jun-03  25.65  26.04  25.52  25.70  51820300        25.56\n",
       "62  23-Jun-03  26.14  26.24  25.49  25.78  52584500        25.64\n",
       "63  20-Jun-03  26.34  26.38  26.01  26.33  86048896        26.18\n",
       "64  19-Jun-03  26.09  26.39  26.01  26.07  63626900        25.92\n",
       "\n",
       "[65 rows x 7 columns]"
      ]
     },
     "execution_count": 5,
     "metadata": {},
     "output_type": "execute_result"
    }
   ],
   "source": [
    "msft"
   ]
  },
  {
   "cell_type": "code",
   "execution_count": 8,
   "id": "1445165a",
   "metadata": {},
   "outputs": [
    {
     "data": {
      "image/png": "[encoded data removed]",
      "text/plain": [
       "<Figure size 432x288 with 1 Axes>"
      ]
     },
     "metadata": {
      "needs_background": "light"
     },
     "output_type": "display_data"
    }
   ],
   "source": [
    "'''\n",
    "https://www.tutorialspoint.com/matplotlib/matplotlib_setting_ticks_and_tick_labels.htm\n",
    "'''\n",
    "\n",
    "x = np.arange(0, math.pi*2, 0.05)\n",
    "fig = plt.figure()\n",
    "ax = fig.add_axes([0.1, 0.1, 0.8, 0.8]) # main axes\n",
    "y = np.sin(x)\n",
    "ax.plot(x, y)\n",
    "ax.set_xlabel('angle')\n",
    "ax.set_title('sine')\n",
    "ax.set_xticks([0,2,4,6])\n",
    "ax.set_xticklabels(['zero','two','four','six'])\n",
    "ax.set_yticks([-1,0,1])\n",
    "plt.show()"
   ]
  },
  {
   "cell_type": "code",
   "execution_count": 9,
   "id": "d796da69",
   "metadata": {},
   "outputs": [
    {
     "data": {
      "text/plain": [
       "Text(0.5, 0.98, 'plt.subplots()')"
      ]
     },
     "execution_count": 9,
     "metadata": {},
     "output_type": "execute_result"
    },
    {
     "data": {
      "image/png": "[encoded data removed]",
      "text/plain": [
       "<Figure size 396x252 with 4 Axes>"
      ]
     },
     "metadata": {
      "needs_background": "light"
     },
     "output_type": "display_data"
    }
   ],
   "source": [
    "'''\n",
    "https://matplotlib.org/stable/tutorials/intermediate/arranging_axes.html\n",
    "'''\n",
    "fig, axs = plt.subplots(ncols=2, nrows=2, figsize=(5.5, 3.5),\n",
    "                        constrained_layout=True)\n",
    "# add an artist, in this case a nice label in the middle...\n",
    "for row in range(2):\n",
    "    for col in range(2):\n",
    "        axs[row, col].annotate(f'axs[{row}, {col}]', (0.5, 0.5),\n",
    "                               transform=axs[row, col].transAxes,\n",
    "                               ha='center', va='center', fontsize=18,\n",
    "                               color='darkgrey')\n",
    "fig.suptitle('plt.subplots()')"
   ]
  },
  {
   "cell_type": "code",
   "execution_count": 10,
   "id": "bdd55bd9",
   "metadata": {},
   "outputs": [
    {
     "data": {
      "image/png": "[encoded data removed]",
      "text/plain": [
       "<Figure size 432x288 with 1 Axes>"
      ]
     },
     "metadata": {},
     "output_type": "display_data"
    }
   ],
   "source": [
    "'''\n",
    "https://matplotlib.org/stable/gallery/pie_and_polar_charts/pie_features.html\n",
    "'''\n",
    "# Pie chart, where the slices will be ordered and plotted counter-clockwise:\n",
    "labels = 'Frogs', 'Hogs', 'Dogs', 'Logs'\n",
    "sizes = [15, 30, 45, 10]\n",
    "explode = (0, 0.1, 0, 0)  # only \"explode\" the 2nd slice (i.e. 'Hogs')\n",
    "\n",
    "fig1, ax1 = plt.subplots()\n",
    "ax1.pie(sizes, explode=explode, labels=labels, autopct='%1.1f%%',\n",
    "        shadow=True, startangle=90)\n",
    "ax1.axis('equal')  # Equal aspect ratio ensures that pie is drawn as a circle.\n",
    "\n",
    "plt.show()"
   ]
  },
  {
   "cell_type": "code",
   "execution_count": 18,
   "id": "a0e91d73",
   "metadata": {},
   "outputs": [
    {
     "data": {
      "image/png": "[encoded data removed]",
      "text/plain": [
       "<Figure size 432x288 with 1 Axes>"
      ]
     },
     "metadata": {},
     "output_type": "display_data"
    }
   ],
   "source": [
    "'''\n",
    "https://www.w3schools.com/python/matplotlib_pie_charts.asp\n",
    "'''\n",
    "\n",
    "font1 = {'family':'serif','color':'blue','size':20}\n",
    "font2 = {'family':'serif','color':'darkred','size':15}\n",
    "\n",
    "y = np.array([35, 25, 25, 15])\n",
    "mylabels = [\"Apples\", \"Bananas\", \"Cherries\", \"Dates\"]\n",
    "mycolors = [\"black\", \"hotpink\", \"b\", \"#4CAF50\"]\n",
    "myexplode = [0.2, 0, 0, 0]\n",
    "\n",
    "plt.pie(y, labels = mylabels, colors = mycolors, explode = myexplode, shadow = True,  startangle = 90)\n",
    "plt.title(\"Pie Chart\", fontdict = font1)\n",
    "plt.legend(title = \"Four Fruits:\", loc = \"best\")\n",
    "plt.show() "
   ]
  },
  {
   "cell_type": "code",
   "execution_count": null,
   "id": "d35eea51",
   "metadata": {},
   "outputs": [],
   "source": [
    "'''\n",
    "loc\n",
    "\n",
    "The location of the legend.\n",
    "\n",
    "The strings 'upper left', 'upper right', 'lower left', 'lower right' place the legend at the corresponding corner of the axes/figure.\n",
    "\n",
    "The strings 'upper center', 'lower center', 'center left', 'center right' place the legend at the center of the corresponding edge of the axes/figure.\n",
    "\n",
    "The string 'center' places the legend at the center of the axes/figure.\n",
    "\n",
    "The string 'best' places the legend at the location, among the nine locations defined so far, with the minimum overlap with other drawn artists. This option can be quite slow for plots with large amounts of data; your plotting speed may benefit from providing a specific location.\n",
    "\n",
    "The location can also be a 2-tuple giving the coordinates of the lower-left corner of the legend in axes coordinates (in which case bbox_to_anchor will be ignored).\n",
    "\n",
    "For back-compatibility, 'center right' (but no other location) can also be spelled 'right', and each \"string\" locations can also be given as a numeric value:\n",
    "\n",
    "'''"
   ]
  },
  {
   "cell_type": "code",
   "execution_count": 19,
   "id": "39aa4bca",
   "metadata": {},
   "outputs": [
    {
     "data": {
      "image/png": "[encoded data removed]",
      "text/plain": [
       "<Figure size 432x288 with 1 Axes>"
      ]
     },
     "metadata": {
      "needs_background": "light"
     },
     "output_type": "display_data"
    }
   ],
   "source": [
    "'''\n",
    "https://matplotlib.org/stable/api/_as_gen/matplotlib.pyplot.hist.html\n",
    "https://matplotlib.org/stable/gallery/pyplots/pyplot_text.html#sphx-glr-gallery-pyplots-pyplot-text-py\n",
    "'''\n",
    "\n",
    "# Fixing random state for reproducibility\n",
    "np.random.seed(19680801)\n",
    "\n",
    "mu, sigma = 100, 15\n",
    "x = mu + sigma * np.random.randn(10000)\n",
    "\n",
    "# the histogram of the data\n",
    "n, bins, patches = plt.hist(x, 50, density=True, facecolor='g', alpha=0.75)\n",
    "\n",
    "\n",
    "plt.xlabel('Smarts')\n",
    "plt.ylabel('Probability')\n",
    "plt.title('Histogram of IQ')\n",
    "plt.text(60, .025, r'$\\mu=100,\\ \\sigma=15$')\n",
    "plt.xlim(40, 160)\n",
    "plt.ylim(0, 0.03)\n",
    "plt.grid(True)\n",
    "plt.show()"
   ]
  },
  {
   "cell_type": "code",
   "execution_count": 22,
   "id": "f9634330",
   "metadata": {},
   "outputs": [],
   "source": [
    "'''\n",
    "https://matplotlib.org/stable/gallery/animation/animated_histogram.html#sphx-glr-gallery-animation-animated-histogram-py\n",
    "'''\n",
    "\n",
    "# Fixing random state for reproducibility\n",
    "np.random.seed(19680801)\n",
    "# Fixing bin edges\n",
    "HIST_BINS = np.linspace(-4, 4, 100)\n",
    "\n",
    "# histogram our data with numpy\n",
    "data = np.random.randn(1000)\n",
    "n, _ = np.histogram(data, HIST_BINS)"
   ]
  },
  {
   "cell_type": "code",
   "execution_count": 21,
   "id": "c159fb25",
   "metadata": {},
   "outputs": [],
   "source": [
    "def prepare_animation(bar_container):\n",
    "\n",
    "    def animate(frame_number):\n",
    "        # simulate new data coming in\n",
    "        data = np.random.randn(1000)\n",
    "        n, _ = np.histogram(data, HIST_BINS)\n",
    "        for count, rect in zip(n, bar_container.patches):\n",
    "            rect.set_height(count)\n",
    "        return bar_container.patches\n",
    "    return animate"
   ]
  },
  {
   "cell_type": "code",
   "execution_count": 23,
   "id": "6c71900e",
   "metadata": {},
   "outputs": [
    {
     "data": {
      "image/png": "[encoded data removed]",
      "text/plain": [
       "<Figure size 432x288 with 1 Axes>"
      ]
     },
     "metadata": {
      "needs_background": "light"
     },
     "output_type": "display_data"
    }
   ],
   "source": [
    "fig, ax = plt.subplots()\n",
    "_, _, bar_container = ax.hist(data, HIST_BINS, lw=1,\n",
    "                              ec=\"yellow\", fc=\"green\", alpha=0.5)\n",
    "ax.set_ylim(top=55)  # set safe limit to ensure that all data is visible.\n",
    "\n",
    "ani = animation.FuncAnimation(fig, prepare_animation(bar_container), 50,\n",
    "                              repeat=False, blit=True)\n",
    "plt.show()"
   ]
  },
  {
   "cell_type": "code",
   "execution_count": 24,
   "id": "aa11b807",
   "metadata": {},
   "outputs": [
    {
     "data": {
      "image/png": "[encoded data removed]",
      "text/plain": [
       "<Figure size 432x288 with 1 Axes>"
      ]
     },
     "metadata": {
      "needs_background": "light"
     },
     "output_type": "display_data"
    }
   ],
   "source": [
    "'''\n",
    "https://www.w3schools.com/python/matplotlib_histograms.asp\n",
    "'''\n",
    "\n",
    "x = np.random.normal(170, 10, 250)\n",
    "\n",
    "plt.hist(x)\n",
    "plt.show() "
   ]
  }
 ],
 "metadata": {
  "kernelspec": {
   "display_name": "Python 3 (ipykernel)",
   "language": "python",
   "name": "python3"
  },
  "language_info": {
   "codemirror_mode": {
    "name": "ipython",
    "version": 3
   },
   "file_extension": ".py",
   "mimetype": "text/x-python",
   "name": "python",
   "nbconvert_exporter": "python",
   "pygments_lexer": "ipython3",
   "version": "3.8.12"
  }
 },
 "nbformat": 4,
 "nbformat_minor": 5
}
