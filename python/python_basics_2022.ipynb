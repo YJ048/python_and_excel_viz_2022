{
 "cells": [
  {
   "cell_type": "markdown",
   "id": "9cd5d65b",
   "metadata": {},
   "source": [
    "# 1. Introduction"
   ]
  },
  {
   "cell_type": "code",
   "execution_count": 1,
   "id": "2a6276c7",
   "metadata": {},
   "outputs": [
    {
     "data": {
      "text/plain": [
       "3"
      ]
     },
     "execution_count": 1,
     "metadata": {},
     "output_type": "execute_result"
    }
   ],
   "source": [
    "## page 5 - 6\n",
    "1 + 2"
   ]
  },
  {
   "cell_type": "code",
   "execution_count": 2,
   "id": "bd0102e1",
   "metadata": {},
   "outputs": [
    {
     "data": {
      "text/plain": [
       "22.0"
      ]
     },
     "execution_count": 2,
     "metadata": {},
     "output_type": "execute_result"
    }
   ],
   "source": [
    "(2+3.5) * 6 / (1.75-0.25)"
   ]
  },
  {
   "cell_type": "code",
   "execution_count": 3,
   "id": "562295d6",
   "metadata": {},
   "outputs": [
    {
     "data": {
      "text/plain": [
       "3.375"
      ]
     },
     "execution_count": 3,
     "metadata": {},
     "output_type": "execute_result"
    }
   ],
   "source": [
    "1.5 ** 3"
   ]
  },
  {
   "cell_type": "code",
   "execution_count": 4,
   "id": "e8e0cea0",
   "metadata": {},
   "outputs": [
    {
     "data": {
      "text/plain": [
       "245.0"
      ]
     },
     "execution_count": 4,
     "metadata": {},
     "output_type": "execute_result"
    }
   ],
   "source": [
    "## page 7\n",
    "# Example 1\n",
    "500*(1-0.05) - 230"
   ]
  },
  {
   "cell_type": "markdown",
   "id": "2f271542",
   "metadata": {},
   "source": [
    "# 2. Objects, Variables, and Data Types"
   ]
  },
  {
   "cell_type": "markdown",
   "id": "9031fd7e",
   "metadata": {},
   "source": [
    "## Variables and Assignment Statements"
   ]
  },
  {
   "cell_type": "code",
   "execution_count": 5,
   "id": "53243bce",
   "metadata": {},
   "outputs": [],
   "source": [
    "## page 13 - 18\n",
    "# Example 1\n",
    "storage = 500\n",
    "dump_rate = 0.05\n",
    "sold = 230\n",
    "\n",
    "# storage*(1-dump_rate) - sold"
   ]
  },
  {
   "cell_type": "code",
   "execution_count": 6,
   "id": "921ab694",
   "metadata": {},
   "outputs": [
    {
     "data": {
      "text/plain": [
       "245.0"
      ]
     },
     "execution_count": 6,
     "metadata": {},
     "output_type": "execute_result"
    }
   ],
   "source": [
    "## page 19 - 20\n",
    "\"\"\"Storage is updated with a new value\"\"\"\n",
    "\n",
    "storage = storage*(1-dump_rate) - sold\n",
    "storage"
   ]
  },
  {
   "cell_type": "code",
   "execution_count": 7,
   "id": "8d0a4e69",
   "metadata": {},
   "outputs": [
    {
     "name": "stdout",
     "output_type": "stream",
     "text": [
      "Key in your name: Peter\n",
      "Hello Peter\n"
     ]
    }
   ],
   "source": [
    "## page 21\n",
    "# Example 2 - input\n",
    "greetings = 'Hello '\n",
    "name = input('Key in your name: ') # Assignment the output of input to name\n",
    "\n",
    "print(greetings + name)"
   ]
  },
  {
   "cell_type": "markdown",
   "id": "34d40ee1",
   "metadata": {},
   "source": [
    "## Built-in Data Types"
   ]
  },
  {
   "cell_type": "code",
   "execution_count": 12,
   "id": "39fc9972",
   "metadata": {},
   "outputs": [
    {
     "data": {
      "text/plain": [
       "int"
      ]
     },
     "execution_count": 12,
     "metadata": {},
     "output_type": "execute_result"
    }
   ],
   "source": [
    "## page 26\n",
    "\"\"\"Numeric types\"\"\"\n",
    "storage = 5000\n",
    "type(storage)"
   ]
  },
  {
   "cell_type": "code",
   "execution_count": 13,
   "id": "531f58b1",
   "metadata": {},
   "outputs": [
    {
     "data": {
      "text/plain": [
       "float"
      ]
     },
     "execution_count": 13,
     "metadata": {},
     "output_type": "execute_result"
    }
   ],
   "source": [
    "storage = 5000.0\n",
    "type(storage)"
   ]
  },
  {
   "cell_type": "code",
   "execution_count": 14,
   "id": "fe1854f2",
   "metadata": {},
   "outputs": [
    {
     "data": {
      "text/plain": [
       "float"
      ]
     },
     "execution_count": 14,
     "metadata": {},
     "output_type": "execute_result"
    }
   ],
   "source": [
    "storage = 5000\n",
    "dump_rate = 0.05\n",
    "\n",
    "type(storage * (1-dump_rate))"
   ]
  },
  {
   "cell_type": "code",
   "execution_count": 15,
   "id": "c2a77b55",
   "metadata": {},
   "outputs": [
    {
     "data": {
      "text/plain": [
       "str"
      ]
     },
     "execution_count": 15,
     "metadata": {},
     "output_type": "execute_result"
    }
   ],
   "source": [
    "## page 27\n",
    "\"\"\"String\"\"\"\n",
    "greeting = 'Hello DAO2702'\n",
    "type(greeting)"
   ]
  },
  {
   "cell_type": "code",
   "execution_count": 16,
   "id": "a026e7f7",
   "metadata": {},
   "outputs": [
    {
     "data": {
      "text/plain": [
       "str"
      ]
     },
     "execution_count": 16,
     "metadata": {},
     "output_type": "execute_result"
    }
   ],
   "source": [
    "storage_str = \"5000.0\"\n",
    "\n",
    "type(storage_str)"
   ]
  },
  {
   "cell_type": "code",
   "execution_count": 18,
   "id": "4d73d485",
   "metadata": {},
   "outputs": [
    {
     "name": "stdout",
     "output_type": "stream",
     "text": [
      "Type something: 3\n",
      "Your input is: 3333333333\n"
     ]
    }
   ],
   "source": [
    "## page 28 - 29\n",
    "# Example 3\n",
    "\n",
    "input_str = input(\"Type something: \")\n",
    "\n",
    "print('Your input is: ' + input_str*10)"
   ]
  },
  {
   "cell_type": "code",
   "execution_count": 19,
   "id": "d9b40d77",
   "metadata": {},
   "outputs": [
    {
     "name": "stdout",
     "output_type": "stream",
     "text": [
      "Type something: 3\n",
      "Your input is: 30.0\n"
     ]
    }
   ],
   "source": [
    "## page 30\n",
    "\"\"\"Data Type Conversion\"\"\"\n",
    "\n",
    "input_str = input(\"Type something: \")\n",
    "\n",
    "print('Your input is: ' + str(float(input_str)*10))"
   ]
  },
  {
   "cell_type": "markdown",
   "id": "6b85e692",
   "metadata": {},
   "source": [
    "# 3. Strings, List and Dictionary"
   ]
  },
  {
   "cell_type": "markdown",
   "id": "abd8dcd0",
   "metadata": {},
   "source": [
    "## String"
   ]
  },
  {
   "cell_type": "code",
   "execution_count": 21,
   "id": "e51cf830",
   "metadata": {},
   "outputs": [
    {
     "data": {
      "text/plain": [
       "13"
      ]
     },
     "execution_count": 21,
     "metadata": {},
     "output_type": "execute_result"
    }
   ],
   "source": [
    "## page 34\n",
    "\"\"\"Length of the string\"\"\"\n",
    "\n",
    "len(\"Hello DAO2702\")"
   ]
  },
  {
   "cell_type": "code",
   "execution_count": 24,
   "id": "d5bb5672",
   "metadata": {},
   "outputs": [
    {
     "name": "stdout",
     "output_type": "stream",
     "text": [
      "e\n",
      "A\n",
      "2\n",
      "O\n"
     ]
    }
   ],
   "source": [
    "## page 36 - 37\n",
    "\"\"\"Accessing Individual Characters\"\"\"\n",
    "greetings = \"Hello DAO2702\"\n",
    "\n",
    "letter_e = greetings[1] # Accessing the 2nd character \"e\"\n",
    "print(letter_e)\n",
    "\n",
    "letter_A = greetings[7] # Accessing the 8th character \"A\"\n",
    "print(letter_A)\n",
    "\n",
    "letter_2 = greetings[-1] # Accessing the last character \"2\"\n",
    "print(letter_2)\n",
    "\n",
    "letter_O = greetings[-5] # Accessing the last 5th character \"O\"\n",
    "print(letter_O)"
   ]
  },
  {
   "cell_type": "code",
   "execution_count": 1,
   "id": "a1b03099",
   "metadata": {},
   "outputs": [
    {
     "name": "stdout",
     "output_type": "stream",
     "text": [
      "Hello\n",
      "2702\n",
      "2702\n",
      "HloDO72\n"
     ]
    }
   ],
   "source": [
    "## page 40 - 45\n",
    "\n",
    "\"\"\"Slicing\"\"\"\n",
    "greetings = \"Hello DAO2702\"\n",
    "\n",
    "print(greetings[0:5:1]) # Print the first five characters\n",
    "\n",
    "print(greetings[9:13:1]) # Print the last four characters\n",
    "\n",
    "print(greetings[0:13:2]) # Print the 1st, 3rd, 5th, ... characters\n"
   ]
  },
  {
   "cell_type": "code",
   "execution_count": 36,
   "id": "9cdb735c",
   "metadata": {},
   "outputs": [
    {
     "name": "stdout",
     "output_type": "stream",
     "text": [
      "ALL WORK AND NO LAY MAKES JACK A DULL BOY\n",
      "all work and no lay makes jack a dull boy\n",
      "All work and no lay makes jack a dull boy\n",
      "ALL WORK AND NO LAY MAKES jACK A DULL BOY\n",
      "All Work And No Lay Makes Jack A Dull Boy\n"
     ]
    }
   ],
   "source": [
    "## page 48\n",
    "\n",
    "\"\"\"Case conversion\"\"\"\n",
    "line = \"all work and no lay makes Jack a dull boy\"\n",
    "\n",
    "line_upper = line.upper()\n",
    "line_lower = line.lower()\n",
    "line_cap = line.capitalize()\n",
    "line_swap = line.swapcase()\n",
    "line_title = line.title()\n",
    "\n",
    "print(line_upper)\n",
    "print(line_lower)\n",
    "print(line_cap)\n",
    "print(line_swap)\n",
    "print(line_title)"
   ]
  },
  {
   "cell_type": "code",
   "execution_count": 37,
   "id": "42853974",
   "metadata": {},
   "outputs": [
    {
     "name": "stdout",
     "output_type": "stream",
     "text": [
      "6\n",
      "9\n"
     ]
    }
   ],
   "source": [
    "## page 49\n",
    "\"\"\"Find a character in a string\"\"\"\n",
    "\n",
    "greetings = \"Hello DAO2702\"\n",
    "\n",
    "print(greetings.find(\"DAO\"))\n",
    "print(greetings.find(\"2\"))"
   ]
  },
  {
   "cell_type": "markdown",
   "id": "51e20c48",
   "metadata": {},
   "source": [
    "## List"
   ]
  },
  {
   "cell_type": "code",
   "execution_count": null,
   "id": "478509c0",
   "metadata": {},
   "outputs": [],
   "source": [
    "## page 50\n",
    "# An empty list\n",
    "I_feel_empty = []\n",
    "\n",
    "# A list with the same data types\n",
    "furious_five = ['Tigress','Crane','Mantis','Monkey','Viper']\n",
    "\n",
    "# A list of mixed data types\n",
    "my_answers = ['B','C',\n",
    "              False, True,\n",
    "              0.256]"
   ]
  },
  {
   "cell_type": "code",
   "execution_count": 50,
   "id": "40c83b1b",
   "metadata": {},
   "outputs": [
    {
     "name": "stdout",
     "output_type": "stream",
     "text": [
      "['B', 'C', False, True, 0.256]\n",
      "['B', 'D', False, True, 0.256]\n",
      "['B', 'D', True, False, 0.256]\n"
     ]
    }
   ],
   "source": [
    "## page 52\n",
    "\"\"\"Mutability\"\"\"\n",
    "my_answers = ['B', 'C', False, True, 0.256]\n",
    "print(my_answers) # Print the original list\n",
    "\n",
    "my_answers[1] = 'D' # Modify the 2nd item in the list\n",
    "print(my_answers) # Print the modified list\n",
    "\n",
    "my_answers[2:4] = [True, False] # Modify the 3rd and 4th item \n",
    "print(my_answers) # Print the modified list"
   ]
  },
  {
   "cell_type": "code",
   "execution_count": 52,
   "id": "5c727ae2",
   "metadata": {},
   "outputs": [
    {
     "name": "stdout",
     "output_type": "stream",
     "text": [
      "[1, 2, 3, 4]\n",
      "[1, 2, 3, 4, 5]\n",
      "[1, 2, 3, 4, 5, 6, 7, 8, 9]\n"
     ]
    }
   ],
   "source": [
    "## page 53\n",
    "\"\"\"List methods\"\"\"\n",
    "the_list = [1,2,3,4]\n",
    "print(the_list)\n",
    "\n",
    "the_list.append(5)\n",
    "print(the_list)\n",
    "\n",
    "another_list = [6,7,8,9]\n",
    "the_list.extend(another_list)\n",
    "print(the_list)"
   ]
  },
  {
   "cell_type": "code",
   "execution_count": 54,
   "id": "c2f406be",
   "metadata": {},
   "outputs": [
    {
     "name": "stdout",
     "output_type": "stream",
     "text": [
      "[1, 2, 'here', 3, 4]\n"
     ]
    }
   ],
   "source": [
    "## page 54\n",
    "the_list = [1,2,3,4]\n",
    "the_list.insert(2, 'here') # Insert an item, with the index to be 2\n",
    "print(the_list)"
   ]
  },
  {
   "cell_type": "code",
   "execution_count": 56,
   "id": "82ebd960",
   "metadata": {},
   "outputs": [
    {
     "name": "stdout",
     "output_type": "stream",
     "text": [
      "[1, 2, 3, 4]\n"
     ]
    }
   ],
   "source": [
    "## page 55\n",
    "the_list = [1, 2, 'here', 3, 4]\n",
    "the_list.remove('here')\n",
    "print(the_list)"
   ]
  },
  {
   "cell_type": "code",
   "execution_count": 59,
   "id": "dbb8861d",
   "metadata": {},
   "outputs": [
    {
     "name": "stdout",
     "output_type": "stream",
     "text": [
      "here\n",
      "[1, 2, 3, 4, 'last item']\n"
     ]
    }
   ],
   "source": [
    "## page 56 - 57\n",
    "the_list = [1, 2, 'here', 3, 4, 'last item']\n",
    "pop_item = the_list.pop(2)\n",
    "print(pop_item)\n",
    "print(the_list)"
   ]
  },
  {
   "cell_type": "markdown",
   "id": "8258bb76",
   "metadata": {},
   "source": [
    "## Dictionary"
   ]
  },
  {
   "cell_type": "code",
   "execution_count": 62,
   "id": "eb823520",
   "metadata": {},
   "outputs": [
    {
     "name": "stdout",
     "output_type": "stream",
     "text": [
      "Name: Jack Sparrow\n",
      "Age: 30\n",
      "Workplace: Black Pearl\n",
      "Title: Captain\n"
     ]
    }
   ],
   "source": [
    "## page 59\n",
    "personal_info = ['Jack Sparrow', 30, 'Black Pearl', 'Captain']\n",
    "\n",
    "print('Name: ' + personal_info[0])\n",
    "print('Age: ' + str(personal_info[1]))\n",
    "print('Workplace: ' + personal_info[2])\n",
    "print('Title: ' + personal_info[3])"
   ]
  },
  {
   "cell_type": "code",
   "execution_count": 63,
   "id": "25a08c4a",
   "metadata": {},
   "outputs": [
    {
     "name": "stdout",
     "output_type": "stream",
     "text": [
      "Name: Jack Sparrow\n",
      "Age: 30\n",
      "Workplace: Black Pearl\n",
      "Title: Captain\n"
     ]
    }
   ],
   "source": [
    "## page 60\n",
    "personal_info = {'name': 'Jack Sparrow', \n",
    "                 'age': 30, \n",
    "                 'workplace': 'Black Pearl', \n",
    "                 'title': 'Captain'}\n",
    "\n",
    "print('Name: ' + personal_info['name'])\n",
    "print('Age: ' + str(personal_info['age']))\n",
    "print('Workplace: ' + personal_info['workplace'])\n",
    "print('Title: ' + personal_info['title'])"
   ]
  },
  {
   "cell_type": "code",
   "execution_count": 74,
   "id": "adc39b6e",
   "metadata": {},
   "outputs": [
    {
     "name": "stdout",
     "output_type": "stream",
     "text": [
      "Jack Sparrow\n",
      "{'name': 'Jack Sparrow', 'age': 30, 'workplace': 'Black Pearl', 'title': 'Captain', 'status': 'single'}\n",
      "{'name': 'Jack Sparrow', 'age': 30, 'workplace': 'Black Pearl', 'title': 'Captain', 'status': 'married'}\n",
      "{'name': 'Jack Sparrow', 'age': 30, 'workplace': 'Black Pearl', 'title': 'Captain'}\n"
     ]
    }
   ],
   "source": [
    "## page 61\n",
    "personal_info = {'name': 'Jack Sparrow', \n",
    "                 'age': 30, \n",
    "                 'workplace': 'Black Pearl', \n",
    "                 'title': 'Captain'}\n",
    "\n",
    "# Accessing a value from key\n",
    "print(personal_info['name'])\n",
    "\n",
    "# Append new key:value pair\n",
    "personal_info['status'] = 'single'\n",
    "print(personal_info)\n",
    "\n",
    "# Re-assign a value to a key\n",
    "personal_info['status'] = 'married'\n",
    "print(personal_info)\n",
    "\n",
    "# remove value from dictionary\n",
    "\n",
    "## Using pop()\n",
    "personal_info.pop('status')\n",
    "print(personal_info)"
   ]
  },
  {
   "cell_type": "markdown",
   "id": "79096409",
   "metadata": {},
   "source": [
    "# 4. Control Flow Statements"
   ]
  },
  {
   "cell_type": "markdown",
   "id": "512555a1",
   "metadata": {},
   "source": [
    "## Boolean Type"
   ]
  },
  {
   "cell_type": "code",
   "execution_count": 75,
   "id": "b39f76a4",
   "metadata": {},
   "outputs": [
    {
     "name": "stdout",
     "output_type": "stream",
     "text": [
      "True\n",
      "False\n",
      "True\n",
      "False\n"
     ]
    }
   ],
   "source": [
    "## page 64\n",
    "\"\"\"Comparison operators\"\"\"\n",
    "print(2 <= 3)\n",
    "print(3.5 > 4)\n",
    "print(2 == 2.0)\n",
    "print(2 != 2.0)"
   ]
  },
  {
   "cell_type": "code",
   "execution_count": 77,
   "id": "5866a8c3",
   "metadata": {},
   "outputs": [
    {
     "name": "stdout",
     "output_type": "stream",
     "text": [
      "True\n",
      "False\n",
      "True\n"
     ]
    }
   ],
   "source": [
    "## page 65\n",
    "\"\"\"Membership operators\"\"\"\n",
    "sentence = \"All work and no play makes Jack a dull boy\"\n",
    "\n",
    "print('work' in sentence)\n",
    "print('Work' in sentence)\n",
    "\n",
    "print('John' not in sentence)"
   ]
  },
  {
   "cell_type": "code",
   "execution_count": 78,
   "id": "2909f96e",
   "metadata": {},
   "outputs": [
    {
     "name": "stdout",
     "output_type": "stream",
     "text": [
      "False\n",
      "True\n"
     ]
    }
   ],
   "source": [
    "## page 67\n",
    "\"\"\"Logic operators\"\"\"\n",
    "is_monday = True\n",
    "is_public_holiday = False\n",
    "is_weekends = False\n",
    "\n",
    "no_school = is_public_holiday or is_weekends\n",
    "have_dao2702 = is_monday and not is_public_holiday\n",
    "\n",
    "print(no_school)\n",
    "print(have_dao2702)"
   ]
  },
  {
   "cell_type": "markdown",
   "id": "692c5ea1",
   "metadata": {},
   "source": [
    "## If"
   ]
  },
  {
   "cell_type": "code",
   "execution_count": 79,
   "id": "f13688c4",
   "metadata": {},
   "outputs": [
    {
     "name": "stdout",
     "output_type": "stream",
     "text": [
      "We'll avenge it!\n",
      "Avengers assemble!\n"
     ]
    }
   ],
   "source": [
    "## page 71 - 72\n",
    "\"\"\"if\"\"\"\n",
    "can_protect_earth = False\n",
    "\n",
    "if not can_protect_earth:\n",
    "    print(\"We'll avenge it!\")\n",
    "print('Avengers assemble!')"
   ]
  },
  {
   "cell_type": "code",
   "execution_count": 80,
   "id": "fae7185f",
   "metadata": {},
   "outputs": [
    {
     "name": "stdout",
     "output_type": "stream",
     "text": [
      "We'll celebrate it!\n",
      "Avengers assemble!\n"
     ]
    }
   ],
   "source": [
    "## page 74\n",
    "\"\"\"if else\"\"\"\n",
    "can_protect_earth = True\n",
    "\n",
    "if not can_protect_earth:\n",
    "    print(\"We'll avenge it!\")\n",
    "else:\n",
    "    print(\"We'll celebrate it!\")\n",
    "print('Avengers assemble!')"
   ]
  },
  {
   "cell_type": "markdown",
   "id": "b28dc2df",
   "metadata": {},
   "source": [
    "## While"
   ]
  },
  {
   "cell_type": "code",
   "execution_count": 3,
   "id": "b5bf0e09",
   "metadata": {},
   "outputs": [
    {
     "name": "stdout",
     "output_type": "stream",
     "text": [
      "Dr. Strange: Dormammu, I've come to bargain!\n",
      "Dorammu: ss\n",
      "Dr.Strange: Ah--------\n",
      "\n",
      "\n",
      "Dr. Strange: Dormammu, I've come to bargain!\n",
      "Dorammu: ss\n",
      "Dr.Strange: Ah--------\n",
      "\n",
      "\n",
      "Dr. Strange: Dormammu, I've come to bargain!\n",
      "Dorammu: I quit\n",
      "Dr. Stange: Wise choice bro!\n",
      "\n",
      "\n"
     ]
    }
   ],
   "source": [
    "## page 81\n",
    "Dormammu_quit = False\n",
    "\n",
    "while not Dormammu_quit:\n",
    "    print(\"Dr. Strange: Dormammu, I've come to bargain!\")\n",
    "    Dormammu_says = input(\"Dorammu: \")\n",
    "    if Dormammu_says == 'I quit' or Dormammu_says == 'You win':\n",
    "        Dormammu_quit = True\n",
    "        print('Dr. Stange: Wise choice bro!')\n",
    "    else:\n",
    "        print(\"Dr.Strange: Ah--------\")\n",
    "    print('\\n')"
   ]
  },
  {
   "cell_type": "code",
   "execution_count": 8,
   "id": "5125dc3c",
   "metadata": {},
   "outputs": [
    {
     "name": "stdout",
     "output_type": "stream",
     "text": [
      "Dr. Strange: Dormammu, I've come to bargain!\n",
      "Dormammu: No\n",
      "Dr.Strange: Ah--------\n",
      "\n",
      "\n",
      "Dr. Strange: Dormammu, I've come to bargain!\n",
      "Dormammu: I quit\n",
      "Dr. Strange: Wise choice bro!\n"
     ]
    }
   ],
   "source": [
    "## page 82 - 83\n",
    "\"\"\"break\"\"\"\n",
    "while True:\n",
    "    print(\"Dr. Strange: Dormammu, I've come to bargain!\")\n",
    "    Dormammu_says = input(\"Dormammu: \")\n",
    "    if Dormammu_says == 'I quit' or Dormammu_says == 'You win':\n",
    "        print('Dr. Strange: Wise choice bro!')\n",
    "        break\n",
    "    else:\n",
    "        print(\"Dr.Strange: Ah--------\")\n",
    "    print('\\n')"
   ]
  },
  {
   "cell_type": "markdown",
   "id": "0deb0551",
   "metadata": {},
   "source": [
    "## For"
   ]
  },
  {
   "cell_type": "code",
   "execution_count": 6,
   "id": "ea827b3e",
   "metadata": {},
   "outputs": [
    {
     "name": "stdout",
     "output_type": "stream",
     "text": [
      "Dr. Strange: Dormammu, I've come to bargain! How many times will you then quit? 5\n",
      "Dormammu: I do not quit * 1\n",
      "Dormammu: I do not quit * 2\n",
      "Dormammu: I do not quit * 3\n",
      "Dormammu: I do not quit * 4\n",
      "Dormammu: I do not quit * 5\n",
      "Dormammu: I quit, you win! \n",
      "Dr. Strange: Wise choice bro!\n"
     ]
    }
   ],
   "source": [
    "## page 87 - 89\n",
    "\"\"\"For Loop\"\"\"\n",
    "\n",
    "Dormammu_says_quit = int(input(\"Dr. Strange: Dormammu, I've come to bargain! How many times will you then quit? \"))\n",
    "\n",
    "for i in range(Dormammu_says_quit):\n",
    "    print(\"Dormammu: I do not quit * \" + str(i+1))\n",
    "\n",
    "print(\"Dormammu: I quit, you win! \")\n",
    "print('Dr. Strange: Wise choice bro!')"
   ]
  }
 ],
 "metadata": {
  "kernelspec": {
   "display_name": "Python 3 (ipykernel)",
   "language": "python",
   "name": "python3"
  },
  "language_info": {
   "codemirror_mode": {
    "name": "ipython",
    "version": 3
   },
   "file_extension": ".py",
   "mimetype": "text/x-python",
   "name": "python",
   "nbconvert_exporter": "python",
   "pygments_lexer": "ipython3",
   "version": "3.8.12"
  }
 },
 "nbformat": 4,
 "nbformat_minor": 5
}
