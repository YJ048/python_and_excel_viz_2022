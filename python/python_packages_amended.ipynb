{
 "cells": [
  {
   "cell_type": "code",
   "execution_count": 1,
   "metadata": {},
   "outputs": [],
   "source": [
    "##page 11\n",
    "import numpy as np\n",
    "\n",
    "#ModuleNotFoundError: No module named 'captum'\n",
    "#u do not have library in the computer\n",
    "#pip install packagename"
   ]
  },
  {
   "cell_type": "code",
   "execution_count": 2,
   "metadata": {},
   "outputs": [
    {
     "data": {
      "text/plain": [
       "numpy.ndarray"
      ]
     },
     "execution_count": 2,
     "metadata": {},
     "output_type": "execute_result"
    }
   ],
   "source": [
    "## page 12\n",
    "array_1d = np.array([61,52.5,71,32.5,68,64]) #this is a 1D array\n",
    "array_2d = np.array([[18,26,17],\n",
    "                     [25,15.5,12],\n",
    "                     [24,27,20],\n",
    "                     [10,5.5,17],\n",
    "                     [27,26,15],\n",
    "                     [22,21,21],\n",
    "                    ])                       #this is a 2D array\n",
    "\n",
    "type(array_2d)"
   ]
  },
  {
   "cell_type": "code",
   "execution_count": 3,
   "metadata": {},
   "outputs": [
    {
     "name": "stdout",
     "output_type": "stream",
     "text": [
      "<class 'numpy.ndarray'>\n",
      "<class 'numpy.ndarray'>\n"
     ]
    }
   ],
   "source": [
    "#str, float, double, dict, list, boolean\n",
    "print(type(array_1d))\n",
    "print(type(array_2d))"
   ]
  },
  {
   "cell_type": "code",
   "execution_count": 4,
   "metadata": {},
   "outputs": [
    {
     "name": "stdout",
     "output_type": "stream",
     "text": [
      "Dimension Number:  1\n",
      "Array Shape:  (6,)\n",
      "Number Of data items:  6\n",
      "Data type of items:  float64\n"
     ]
    }
   ],
   "source": [
    "## page 15 - 19\n",
    "# 1 dimension array\n",
    "print('Dimension Number: ', array_1d.ndim)\n",
    "print('Array Shape: ', array_1d.shape)\n",
    "print('Number Of data items: ', array_1d.size)\n",
    "print('Data type of items: ', array_1d.dtype)"
   ]
  },
  {
   "cell_type": "code",
   "execution_count": 5,
   "metadata": {},
   "outputs": [
    {
     "name": "stdout",
     "output_type": "stream",
     "text": [
      "Dimension Number:  2\n",
      "Array Shape:  (6, 3)\n",
      "Number Of data items:  18\n",
      "Data type of items:  float64\n"
     ]
    }
   ],
   "source": [
    "## page 20 - 25\n",
    "# 2 dimension array\n",
    "print('Dimension Number: ', array_2d.ndim)\n",
    "print('Array Shape: ', array_2d.shape)\n",
    "print('Number Of data items: ', array_2d.size)\n",
    "print('Data type of items: ', array_2d.dtype)"
   ]
  },
  {
   "cell_type": "code",
   "execution_count": 6,
   "metadata": {},
   "outputs": [
    {
     "data": {
      "text/plain": [
       "array([[0., 0., 0.],\n",
       "       [0., 0., 0.],\n",
       "       [0., 0., 0.]])"
      ]
     },
     "execution_count": 6,
     "metadata": {},
     "output_type": "execute_result"
    }
   ],
   "source": [
    "## page 26 - 2 dimension array\n",
    "ones_2d = np.zeros(shape=(3,3))\n",
    "ones_2d"
   ]
  },
  {
   "cell_type": "code",
   "execution_count": 7,
   "metadata": {},
   "outputs": [
    {
     "data": {
      "text/plain": [
       "array([0., 0., 0., 0., 0.])"
      ]
     },
     "execution_count": 7,
     "metadata": {},
     "output_type": "execute_result"
    }
   ],
   "source": [
    "#1 dimension array\n",
    "zeros_1d = np.zeros(shape=(5))\n",
    "zeros_1d"
   ]
  },
  {
   "cell_type": "code",
   "execution_count": 8,
   "metadata": {},
   "outputs": [
    {
     "data": {
      "text/plain": [
       "array([2. , 2.1, 2.2, 2.3, 2.4])"
      ]
     },
     "execution_count": 8,
     "metadata": {},
     "output_type": "execute_result"
    }
   ],
   "source": [
    "range_array = np.arange(2, 5, 0.1)\n",
    "range_array[0:5]\n"
   ]
  },
  {
   "cell_type": "code",
   "execution_count": 9,
   "metadata": {},
   "outputs": [
    {
     "name": "stdout",
     "output_type": "stream",
     "text": [
      "[[25.  15.5 12. ]\n",
      " [24.  27.  20. ]\n",
      " [18.  26.  17. ]]\n"
     ]
    },
    {
     "data": {
      "text/plain": [
       "array([61. , 52.5, 71. , 32.5, 68. , 64. ])"
      ]
     },
     "execution_count": 9,
     "metadata": {},
     "output_type": "execute_result"
    }
   ],
   "source": [
    "## page 27 - 32\n",
    "array_1d = np.array([61,52.5,71,32.5,68,64]) #this is a 1D array\n",
    "array_2d = np.array([[18,26,17],\n",
    "                     [25,15.5,12],\n",
    "                     [24,27,20],\n",
    "                     [10,5.5,17],\n",
    "                     [27,26,15],\n",
    "                     [22,21,21],\n",
    "                    ])                       #this is a 2D array\n",
    "\n",
    "\n",
    "# print(array_1d[1])\n",
    "# print(array_2d[0,1])\n",
    "# print(array_1d[2:])\n",
    "# print(array_2d[3:])\n",
    "print(array_2d[[1,2,0]])\n",
    "array_1d"
   ]
  },
  {
   "cell_type": "code",
   "execution_count": 10,
   "metadata": {},
   "outputs": [
    {
     "data": {
      "text/plain": [
       "array([[18. , 26. , 17. ],\n",
       "       [25. , 15.5, 12. ],\n",
       "       [25. , 28. , 21. ],\n",
       "       [99. , 99. , 99. ],\n",
       "       [27. , 26. , 15. ],\n",
       "       [22. , 21. , 21. ]])"
      ]
     },
     "execution_count": 10,
     "metadata": {},
     "output_type": "execute_result"
    }
   ],
   "source": [
    "##page 33 - 36\n",
    "# update the record in an array\n",
    "array_2d[2,:] = np.array([25,28,21])\n",
    "array_2d[3,:] = np.array([99,99,99])\n",
    "array_2d"
   ]
  },
  {
   "cell_type": "code",
   "execution_count": 11,
   "metadata": {},
   "outputs": [
    {
     "data": {
      "text/plain": [
       "array([61. , 52.5, 71. , 32.5, 68. , 64. ])"
      ]
     },
     "execution_count": 11,
     "metadata": {},
     "output_type": "execute_result"
    }
   ],
   "source": [
    "#before\n",
    "array_1d"
   ]
  },
  {
   "cell_type": "code",
   "execution_count": 12,
   "metadata": {},
   "outputs": [],
   "source": [
    "#after\n",
    "#array_1d[2] = 74 #value re-assignment\n",
    "#array_1d[6] = 999 #reading from the array\n",
    "\n",
    "#python without numpy\n",
    "#array_1d.append(5)\n",
    "\n",
    "#numpy\n",
    "#np.append(array_1d,5)\n",
    "\n"
   ]
  },
  {
   "cell_type": "code",
   "execution_count": 13,
   "metadata": {},
   "outputs": [],
   "source": [
    "## page 37 - 38\n",
    "# element wise arithmetic operations\n",
    "array_2d = np.array([\n",
    "    [1,2] ,\n",
    "    [2,3.5],\n",
    "    [5,6.5],\n",
    "])\n",
    "\n",
    "# print(array_2d - 3)\n",
    "# print(array_2d / 2)\n",
    "# print(array_2d + array_2d)\n",
    "# print(array_2d * array_2d)"
   ]
  },
  {
   "cell_type": "code",
   "execution_count": 14,
   "metadata": {},
   "outputs": [
    {
     "name": "stdout",
     "output_type": "stream",
     "text": [
      "usd array\n",
      "[ 2.    3.6   2.05 13.5  18.9 ]\n",
      "\n",
      "sgd array\n",
      "[ 2.64   4.752  2.706 17.82  24.948]\n"
     ]
    }
   ],
   "source": [
    "## page 39 - 42\n",
    "## usd to sgd exercise\n",
    "usd = [2,3.6,2.05,13.5,18.9]\n",
    "exchange_rate = 1.32\n",
    "\n",
    "usd_array = np.array(usd) # convert it to a numpy array\n",
    "sgd_array = usd_array * exchange_rate\n",
    "\n",
    "print(\"usd array\")\n",
    "print(usd_array)\n",
    "print()\n",
    "print(\"sgd array\")\n",
    "print(sgd_array)"
   ]
  },
  {
   "cell_type": "code",
   "execution_count": 15,
   "metadata": {},
   "outputs": [],
   "source": [
    "# The discrete distribution information of two types of newspapers is\n",
    "# stored in a two-dimensional array distr. The first row represents\n",
    "# the probabilities of each weather condition, the second and third\n",
    "# rows give the corresponding newspaper demands. Calculate\n",
    "# 1) the expected newspaper demands;\n",
    "# 2) the standard deviations of newspaper demands;\n",
    "# and 3) the expected total profit with the given parameters\n",
    "#####################################################################\n",
    "\n",
    "# page 44 - 49\n",
    "# using the \"distr\" -> distribution\n",
    "# find\n",
    "# 1. the expected newspaper demands\n",
    "# 2. standard deviations of newspaper demands\n",
    "# 3. the expected total profit with the given parameters\n",
    "\n",
    "distr = np.array([[0.315,0.226,0.289,0.087,0.083],\n",
    "                  [560,530,389,202,278],\n",
    "                  [533,486,386,234,263],\n",
    "                 ])   "
   ]
  },
  {
   "cell_type": "code",
   "execution_count": 16,
   "metadata": {},
   "outputs": [
    {
     "name": "stdout",
     "output_type": "stream",
     "text": [
      "Expected demand: 449.249\n",
      "Standard deviation: 118.908\n"
     ]
    }
   ],
   "source": [
    "# paper1 data result\n",
    "exp1 = np.sum(distr[0] * distr[1])\n",
    "var1 = np.sum(distr[0] * (distr[1] - exp1) ** 2)\n",
    "std1 = var1 ** 0.5\n",
    "\n",
    "print(\"Expected demand: {0:0.3f}\".format(exp1))\n",
    "print(\"Standard deviation: {0:0.3f}\".format(std1))"
   ]
  },
  {
   "cell_type": "code",
   "execution_count": 17,
   "metadata": {},
   "outputs": [
    {
     "name": "stdout",
     "output_type": "stream",
     "text": [
      "Expected demand: 449.25\n",
      "Expected demand: 449.249 dfsdfsdfsf\n"
     ]
    }
   ],
   "source": [
    "# 0, formating for the whole number\n",
    "# :0.f, formatting for the decimal places\n",
    "# 0.5 >= round up the next whole number, 1.5 1.6 -> 2\n",
    "# 0.499999 <= round up to the next whole number, 1.49999, 1.3 , 1.2 -> 1\n",
    "\n",
    "print(\"Expected demand: {0:0.2f}\".format(exp1))\n",
    "print(f\"Expected demand: {exp1:0.3f} dfsdfsdfsf\")"
   ]
  },
  {
   "cell_type": "code",
   "execution_count": 18,
   "metadata": {},
   "outputs": [
    {
     "name": "stdout",
     "output_type": "stream",
     "text": [
      "Expected demand: 449.249\n",
      "Standard deviation: 118.908\n"
     ]
    }
   ],
   "source": [
    "# page 50\n",
    "# can try out on your own...\n",
    "\n",
    "# paper1 data result\n",
    "exp2 = np.sum(distr[0] * distr[2])\n",
    "var2 = np.sum(distr[0] * (distr[2] - exp2) ** 2)\n",
    "std2 = var2 ** 0.5\n",
    "\n",
    "print(\"Expected demand: {0:0.3f}\".format(exp1))\n",
    "print(\"Standard deviation: {0:0.3f}\".format(std1))"
   ]
  },
  {
   "cell_type": "code",
   "execution_count": 19,
   "metadata": {},
   "outputs": [
    {
     "name": "stdout",
     "output_type": "stream",
     "text": [
      "Expected Profit; $234.92\n"
     ]
    }
   ],
   "source": [
    "#page 51 - 54\n",
    "#map price to paper dataset\n",
    "cost = np.array([0.6,0.8])\n",
    "price = np.array([1.0,1.15])\n",
    "order = np.array([430,380])\n",
    "\n",
    "exp_sold1 = np.sum(distr[0] * np.minimum(order[0], distr[1]))\n",
    "exp_sold2 = np.sum(distr[0] * np.minimum(order[1], distr[2]))\n",
    "exp_profit = ((price[0]*exp_sold1) + (price[1]*exp_sold2)) - np.sum(order*cost)\n",
    "print(\"Expected Profit; ${0:0.2f}\".format(exp_profit))"
   ]
  },
  {
   "cell_type": "code",
   "execution_count": 20,
   "metadata": {},
   "outputs": [
    {
     "data": {
      "text/plain": [
       "array([[1., 2., 3.],\n",
       "       [1., 2., 3.],\n",
       "       [1., 2., 3.]])"
      ]
     },
     "execution_count": 20,
     "metadata": {},
     "output_type": "execute_result"
    }
   ],
   "source": [
    "## page 56 - page 58\n",
    "\n",
    "\n",
    "\n",
    "np.ones(shape=(3,3)) + np.arange(3)"
   ]
  },
  {
   "cell_type": "code",
   "execution_count": 21,
   "metadata": {},
   "outputs": [
    {
     "data": {
      "text/plain": [
       "array([[0, 1, 2],\n",
       "       [1, 2, 3],\n",
       "       [2, 3, 4]])"
      ]
     },
     "execution_count": 21,
     "metadata": {},
     "output_type": "execute_result"
    }
   ],
   "source": [
    "## page 59 - page 63\n",
    "np.arange(3).reshape((3,1)) + np.arange(3)\n",
    "# np.arange(6).reshape((3,2)) + np.arange(2)"
   ]
  },
  {
   "cell_type": "code",
   "execution_count": 22,
   "metadata": {},
   "outputs": [
    {
     "data": {
      "text/plain": [
       "array([10, 11, 12])"
      ]
     },
     "execution_count": 22,
     "metadata": {},
     "output_type": "execute_result"
    }
   ],
   "source": [
    "## page 64 - 65\n",
    "np.arange(3) + 10"
   ]
  },
  {
   "cell_type": "code",
   "execution_count": 23,
   "metadata": {},
   "outputs": [
    {
     "name": "stdout",
     "output_type": "stream",
     "text": [
      "1.0986122886681098\n",
      "[ 1.          2.71828183  7.3890561  20.08553692]\n",
      "[0 1 4]\n",
      "[0 1 2]\n",
      "[0 1 8]\n"
     ]
    }
   ],
   "source": [
    "## page 67\n",
    "## function and array methods - math functions\n",
    "print(np.log(3)) #natural logarithm of 3\n",
    "print(np.exp(np.arange(4))) #exponential of 0,1,2,3\n",
    "print(np.square(np.arange(3))) # squares of 0,1,2\n",
    "print(np.arange(3))\n",
    "print(np.power(np.arange(3), 3)) # cubes of 0,1,2"
   ]
  },
  {
   "cell_type": "code",
   "execution_count": null,
   "metadata": {},
   "outputs": [],
   "source": []
  },
  {
   "cell_type": "code",
   "execution_count": 24,
   "metadata": {},
   "outputs": [
    {
     "name": "stdout",
     "output_type": "stream",
     "text": [
      "20.0\n",
      "1.0\n",
      "6.5\n"
     ]
    }
   ],
   "source": [
    "## page 68\n",
    "## function and array methods - math functions\n",
    "array_2d = np.array([[1,2],\n",
    "                    [2,3.5],\n",
    "                    [5,6.5]])\n",
    "\n",
    "print(np.sum(array_2d))\n",
    "print(np.min(array_2d))\n",
    "print(np.max(array_2d))\n",
    "# print(array_2d.sum()) #sum of all item\n",
    "# print(array_2d.max()) # the maximum item in the array\n",
    "# print(array_2d.min()) # the minimum item in the array"
   ]
  },
  {
   "cell_type": "code",
   "execution_count": 25,
   "metadata": {},
   "outputs": [
    {
     "name": "stdout",
     "output_type": "stream",
     "text": [
      "[ 8. 12.]\n",
      "[ 3.   5.5 11.5]\n",
      "[5.  6.5]\n",
      "[1. 2. 5.]\n"
     ]
    }
   ],
   "source": [
    "#page 69 - 73\n",
    "#aggregation methods\n",
    "array_2d = np.array([[1,2],\n",
    "                    [2,3.5],\n",
    "                    [5,6.5]])\n",
    "\n",
    "\n",
    "print(array_2d.sum(axis=0))\n",
    "print(array_2d.sum(axis=1))\n",
    "print(array_2d.max(axis=0))\n",
    "print(array_2d.min(axis=1))"
   ]
  },
  {
   "cell_type": "code",
   "execution_count": 26,
   "metadata": {},
   "outputs": [
    {
     "name": "stdout",
     "output_type": "stream",
     "text": [
      "[449.249 431.472]\n"
     ]
    }
   ],
   "source": [
    "#page 75 - 80\n",
    "#using the sum function\n",
    "distr = np.array([\n",
    "    [0.315,0.226,0.289,0.087,0.083],\n",
    "    [560,530,389,202,278],\n",
    "    [533,486,386,234,263],\n",
    "])\n",
    "\n",
    "print((distr[0] * distr[1:]).sum(axis=1))\n",
    "\n",
    "exp_d = (distr[0] * distr[1:]).sum(axis=1)"
   ]
  },
  {
   "cell_type": "code",
   "execution_count": 27,
   "metadata": {},
   "outputs": [
    {
     "name": "stdout",
     "output_type": "stream",
     "text": [
      "[118.90763222 101.3157797 ]\n"
     ]
    }
   ],
   "source": [
    "#page 80 - 84\n",
    "# get the standard deviation of the data\n",
    "\n",
    "var_d = (distr[0] * (distr[1:] - exp_d.reshape((2,1)))**2).sum(axis=1)\n",
    "std_d = var_d ** 0.5\n",
    "print(std_d)"
   ]
  },
  {
   "cell_type": "code",
   "execution_count": 28,
   "metadata": {},
   "outputs": [
    {
     "data": {
      "text/plain": [
       "array([385.699, 357.587])"
      ]
     },
     "execution_count": 28,
     "metadata": {},
     "output_type": "execute_result"
    }
   ],
   "source": [
    "#page 85 - 89\n",
    "exp_sold = (distr[0] * np.minimum( order.reshape(2,1), distr[1:] )).sum(axis=1)\n",
    "exp_sold"
   ]
  },
  {
   "cell_type": "markdown",
   "metadata": {},
   "source": [
    "## data visualisation"
   ]
  },
  {
   "cell_type": "code",
   "execution_count": 29,
   "metadata": {},
   "outputs": [],
   "source": [
    "import matplotlib.pyplot as plt\n",
    "## will be learning\n",
    "## 1. line /plot graph\n",
    "## 2. scatter graph\n",
    "## 3. bar graph"
   ]
  },
  {
   "cell_type": "code",
   "execution_count": 30,
   "metadata": {},
   "outputs": [
    {
     "data": {
      "image/png": "[encoded data removed]",
      "text/plain": [
       "<Figure size 432x288 with 1 Axes>"
      ]
     },
     "metadata": {
      "needs_background": "light"
     },
     "output_type": "display_data"
    }
   ],
   "source": [
    "## page 95 - 104\n",
    "## plot the graph of exponential function y = exp(x), where x = 0,1,2,3,4,5\n",
    "\n",
    "step = 1\n",
    "x = np.arange(0, 5 + step, step) # an array 0,1,2,3,4,5\n",
    "y = np.exp(x) # an array of exp(0), exp(1), ..., exp(5)\n",
    "#######################################################\n",
    "\n",
    "plt.plot(x,y) #specify the line plot by the x and y data\n",
    "plt.xlabel('x-axis') # label for x data\n",
    "plt.ylabel('y-axis') # label for y data\n",
    "plt.show() # ready for display (optional for Jupyter)"
   ]
  },
  {
   "cell_type": "code",
   "execution_count": 31,
   "metadata": {},
   "outputs": [
    {
     "data": {
      "image/png": "[encoded data removed]",
      "text/plain": [
       "<Figure size 432x288 with 1 Axes>"
      ]
     },
     "metadata": {
      "needs_background": "light"
     },
     "output_type": "display_data"
    }
   ],
   "source": [
    "import matplotlib.pyplot as plt\n",
    "\n",
    "x = range(0,5)\n",
    "y = [10,20,50,100,200]\n",
    "\n",
    "plt.plot(x,y,\n",
    "         label='line1',\n",
    "         c='r') #specify the line plot by the x and y data\n",
    "plt.legend(fontsize=12)\n",
    "plt.xlabel('x-axis',fontsize=12) # label for x data\n",
    "plt.ylabel('y-axis',fontsize=12) # label for y data\n",
    "plt.show() # ready for display (optional for Jupyter)"
   ]
  },
  {
   "cell_type": "code",
   "execution_count": 32,
   "metadata": {},
   "outputs": [
    {
     "data": {
      "image/png": "[encoded data removed]",
      "text/plain": [
       "<Figure size 432x288 with 1 Axes>"
      ]
     },
     "metadata": {
      "needs_background": "light"
     },
     "output_type": "display_data"
    }
   ],
   "source": [
    "step = 1\n",
    "x = np.arange(0, 5 + step, step) # an array 0,1,2,3,4,5\n",
    "y = np.exp(x) # an array of exp(0), exp(1), ..., exp(5)\n",
    "\n",
    "plt.scatter(x,y) #specify the line plot by the x and y data\n",
    "plt.xlabel('x-axis') # label for x data\n",
    "plt.ylabel('y-axis') # label for y data\n",
    "plt.show() # ready for display (optional for Jupyter)"
   ]
  },
  {
   "cell_type": "code",
   "execution_count": 33,
   "metadata": {},
   "outputs": [
    {
     "data": {
      "image/png": "[encoded data removed]",
      "text/plain": [
       "<Figure size 432x288 with 1 Axes>"
      ]
     },
     "metadata": {
      "needs_background": "light"
     },
     "output_type": "display_data"
    }
   ],
   "source": [
    "## page 105\n",
    "## plot the graph of exponential function y = exp(x), where x = 0,1,2,3,4,5\n",
    "\n",
    "step = 1\n",
    "x = np.arange(0, 5 + step, step) # an array 0,1,2,3,4,5\n",
    "y = np.exp(x) # an array of exp(0), exp(1), ..., exp(5)\n",
    "\n",
    "plt.scatter(x,y,color=\"b\") #specify the scatter graph by the x and y data\n",
    "plt.xlabel('x') # label for x data\n",
    "plt.ylabel('y') # label for y data\n",
    "plt.show() # ready for display (optional for Jupyter)"
   ]
  },
  {
   "cell_type": "code",
   "execution_count": 34,
   "metadata": {},
   "outputs": [
    {
     "data": {
      "image/png": "[encoded data removed]",
      "text/plain": [
       "<Figure size 432x288 with 1 Axes>"
      ]
     },
     "metadata": {
      "needs_background": "light"
     },
     "output_type": "display_data"
    }
   ],
   "source": [
    "## page 106\n",
    "\n",
    "step = 1\n",
    "x = np.arange(0, 5 + step, step) # an array 0,1,2,3,4,5\n",
    "y = np.exp(x) # an array of exp(0), exp(1), ..., exp(5)\n",
    "\n",
    "plt.bar(x,y) #specify the scatter graph by the x and y data\n",
    "plt.xlabel('x') # label for x data\n",
    "plt.ylabel('y') # label for y data\n",
    "plt.show() # ready for display (optional for Jupyter)"
   ]
  },
  {
   "cell_type": "code",
   "execution_count": 35,
   "metadata": {},
   "outputs": [
    {
     "data": {
      "image/png": "[encoded data removed]",
      "text/plain": [
       "<Figure size 432x288 with 1 Axes>"
      ]
     },
     "metadata": {
      "needs_background": "light"
     },
     "output_type": "display_data"
    }
   ],
   "source": [
    "step = 1\n",
    "x = np.arange(0, 5 + step, step) # an array 0,1,2,3,4,5\n",
    "y = np.exp(x) # an array of exp(0), exp(1), ..., exp(5)\n",
    "\n",
    "plt.bar(x,y) #specify the scatter graph by the x and y data\n",
    "plt.xlabel('x') # label for x data\n",
    "plt.ylabel('y') # label for y data\n",
    "plt.show() # ready for display (optional for Jupyter)"
   ]
  },
  {
   "cell_type": "code",
   "execution_count": 36,
   "metadata": {},
   "outputs": [
    {
     "data": {
      "text/plain": [
       "[<matplotlib.lines.Line2D at 0x1b48763f820>]"
      ]
     },
     "execution_count": 36,
     "metadata": {},
     "output_type": "execute_result"
    },
    {
     "data": {
      "image/png": "[encoded data removed]",
      "text/plain": [
       "<Figure size 432x288 with 1 Axes>"
      ]
     },
     "metadata": {
      "needs_background": "light"
     },
     "output_type": "display_data"
    }
   ],
   "source": [
    "## page 107\n",
    "\n",
    "## graph line starts drawing from 0,0 -> 1,0 -> 1,1 -> 0,1 -> 0,0\n",
    "## creating this square\n",
    "plt.plot([0,0.5,0.5,0,0],[0,0,0.5,0.5,0])"
   ]
  },
  {
   "cell_type": "code",
   "execution_count": 37,
   "metadata": {},
   "outputs": [
    {
     "data": {
      "image/png": "[encoded data removed]",
      "text/plain": [
       "<Figure size 432x288 with 1 Axes>"
      ]
     },
     "metadata": {
      "needs_background": "light"
     },
     "output_type": "display_data"
    }
   ],
   "source": [
    "## page 112 - 115\n",
    "## draw elephant using graph\n",
    "\n",
    "#3.142 \n",
    "pi = np.pi\n",
    "t = np.arange(0, 2*pi+0.01, 0.01)\n",
    "\n",
    "x = -30*np.sin(t) + 8*np.sin(2*t) - 10*np.sin(3*t) - 60*np.cos(t)\n",
    "y = -50*np.sin(t) - 18*np.sin(2*t) - 12*np.cos(3*t) + 14*np.cos(5*t)\n",
    "\n",
    "plt.plot(x,y) #plot the curve as the elepant\n",
    "plt.scatter(20,20) #plot the eye of the elephant as a scatter plot\n",
    "\n",
    "plt.show()"
   ]
  },
  {
   "cell_type": "code",
   "execution_count": 38,
   "metadata": {},
   "outputs": [
    {
     "data": {
      "image/png": "[encoded data removed]",
      "text/plain": [
       "<Figure size 432x288 with 1 Axes>"
      ]
     },
     "metadata": {
      "needs_background": "light"
     },
     "output_type": "display_data"
    }
   ],
   "source": [
    "## page 116 - 119\n",
    "## draw a line plot\n",
    "\n",
    "step = 1\n",
    "x = np.arange(0, 5 + step, step) # an array 0,1,2,3,4,5\n",
    "y = np.exp(x) # an array of exp(0), exp(1), ..., exp(5)\n",
    "\n",
    "# plt.plot(x,y,\n",
    "#         linestyle=\":\",\n",
    "#         color='r')\n",
    "# plt.plot(x,y+30,\n",
    "#         linestyle=\"-.\",\n",
    "#         color='b')\n",
    "# plt.plot(x,y+60,\n",
    "#         linestyle=\"--\",\n",
    "#         color='g')\n",
    "plt.plot(x,y,\n",
    "        linewidth=3,\n",
    "        linestyle=':',\n",
    "        color='r',\n",
    "        label=\"line1\")\n",
    "plt.plot(x,y+30,\n",
    "        linewidth=2,\n",
    "        linestyle='-.',\n",
    "        color='b')\n",
    "plt.plot(x,y+60,\n",
    "        marker='o',\n",
    "        linestyle='--',\n",
    "        color='g')\n",
    "\n",
    "plt.legend()\n",
    "plt.xlabel('x')\n",
    "plt.ylabel('y')\n",
    "plt.show()"
   ]
  },
  {
   "cell_type": "code",
   "execution_count": 39,
   "metadata": {},
   "outputs": [
    {
     "data": {
      "image/png": "[encoded data removed]",
      "text/plain": [
       "<Figure size 432x288 with 1 Axes>"
      ]
     },
     "metadata": {
      "needs_background": "light"
     },
     "output_type": "display_data"
    }
   ],
   "source": [
    "## page 120 - 122\n",
    "## scatter plot\n",
    "\n",
    "step = 1\n",
    "x = np.arange(0, 5 + step, step)\n",
    "y = np.exp(x)\n",
    "z = np.sqrt(y)\n",
    "\n",
    "plt.scatter(x,y,\n",
    "            s=z*50,\n",
    "            c='b',\n",
    "            alpha=0.1) #transparency, faded the color is\n",
    "plt.xlabel('x')\n",
    "plt.ylabel('y')\n",
    "plt.show()\n"
   ]
  },
  {
   "cell_type": "code",
   "execution_count": 40,
   "metadata": {},
   "outputs": [
    {
     "data": {
      "image/png": "[encoded data removed]",
      "text/plain": [
       "<Figure size 432x288 with 1 Axes>"
      ]
     },
     "metadata": {
      "needs_background": "light"
     },
     "output_type": "display_data"
    }
   ],
   "source": [
    "## page 123 - 125\n",
    "## bar graph\n",
    "\n",
    "step = 1\n",
    "x = np.arange(0, 5 + step, step)\n",
    "y = np.exp(x)\n",
    "z = np.sqrt(y)\n",
    "\n",
    "plt.bar(x,y,\n",
    "       width=0.5,\n",
    "       color='b',\n",
    "       alpha=0.3)\n",
    "plt.xlabel('x')\n",
    "plt.ylabel('y')\n",
    "plt.show()"
   ]
  },
  {
   "cell_type": "code",
   "execution_count": 41,
   "metadata": {},
   "outputs": [
    {
     "data": {
      "image/png": "[encoded data removed]",
      "text/plain": [
       "<Figure size 720x360 with 1 Axes>"
      ]
     },
     "metadata": {
      "needs_background": "light"
     },
     "output_type": "display_data"
    }
   ],
   "source": [
    "## page 127 - 130\n",
    "## figure graph\n",
    "\n",
    "step = 1\n",
    "x = np.arange(0, 10+step, step)\n",
    "y = np.exp(x/2) \n",
    "\n",
    "plt.figure(figsize=(10, 5)) # size of the figure also\n",
    "plt.title('My Title', fontsize=15) #can add title\n",
    "plt.bar(x,y,\n",
    "       width=0.6,\n",
    "       color='b',\n",
    "       alpha=0.3)\n",
    "plt.xlabel('x-axis',fontsize=12) #change font size\n",
    "plt.ylabel('y-axis',fontsize=12) #change font size\n",
    "plt.show()"
   ]
  },
  {
   "cell_type": "code",
   "execution_count": 42,
   "metadata": {},
   "outputs": [
    {
     "data": {
      "image/png": "[encoded data removed]",
      "text/plain": [
       "<Figure size 432x288 with 1 Axes>"
      ]
     },
     "metadata": {
      "needs_background": "light"
     },
     "output_type": "display_data"
    }
   ],
   "source": [
    "#page 131\n",
    "#labeling the plots and function\n",
    "\n",
    "step = 1\n",
    "x = np.arange(0, 5 + step, step) # an array 0,1,2,3,4,5\n",
    "y = np.exp(x) # an array of exp(0), exp(1), ..., exp(5)\n",
    "\n",
    "plt.plot(x,y,\n",
    "        linewidth=3,\n",
    "        linestyle=':',\n",
    "        color='r',\n",
    "        label='Line 1')\n",
    "plt.plot(x,y+30,\n",
    "        linewidth=2,\n",
    "        linestyle='-.',\n",
    "        color='b',\n",
    "        label='Line 2')\n",
    "plt.plot(x,y+60,\n",
    "        marker='o',\n",
    "        linestyle='--',\n",
    "        color='g',\n",
    "        label='Line 3')\n",
    "\n",
    "plt.legend(fontsize=13)\n",
    "plt.xlabel('x')\n",
    "plt.ylabel('y')\n",
    "plt.show()"
   ]
  },
  {
   "cell_type": "code",
   "execution_count": 43,
   "metadata": {},
   "outputs": [
    {
     "data": {
      "text/plain": [
       "<matplotlib.legend.Legend at 0x1b48788e1c0>"
      ]
     },
     "execution_count": 43,
     "metadata": {},
     "output_type": "execute_result"
    },
    {
     "data": {
      "image/png": "[encoded data removed]",
      "text/plain": [
       "<Figure size 432x288 with 1 Axes>"
      ]
     },
     "metadata": {
      "needs_background": "light"
     },
     "output_type": "display_data"
    }
   ],
   "source": [
    "step = 1\n",
    "x = np.arange(0, 5 + step, step) # an array 0,1,2,3,4,5\n",
    "y = np.exp(x) # an array of exp(0), exp(1), ..., exp(5)\n",
    "\n",
    "plt.plot(x,y,\n",
    "        linestyle=\":\",\n",
    "        color='r',\n",
    "        label=\"Line 1\")\n",
    "plt.plot(x,y+30,\n",
    "        linestyle=\"-.\",\n",
    "        color='b',\n",
    "        label=\"Line 2\")\n",
    "plt.plot(x,y+60,\n",
    "        linestyle=\"--\",\n",
    "        color='g',\n",
    "        label=\"Line 3\")\n",
    "\n",
    "plt.legend(fontsize=20)"
   ]
  },
  {
   "cell_type": "code",
   "execution_count": 44,
   "metadata": {},
   "outputs": [],
   "source": [
    "## page 133\n",
    "\n",
    "distr_dict = {\n",
    "'weather' : ['Sunny', 'Cloudy', 'Raining', 'Thunderstorm','Haze'],\n",
    "'probs': [0.315, 0.226, 0.289, 0.087, 0.083],\n",
    "'paperl': [560000, 530000, 389000, 202000, 278000],\n",
    "'paper2': [533000, 486000, 386000, 234000, 263000],                           \n",
    "}\n"
   ]
  },
  {
   "cell_type": "code",
   "execution_count": 45,
   "metadata": {
    "scrolled": true
   },
   "outputs": [
    {
     "data": {
      "text/plain": [
       "Text(0, 0.5, 'Demand')"
      ]
     },
     "execution_count": 45,
     "metadata": {},
     "output_type": "execute_result"
    },
    {
     "data": {
      "image/png": "[encoded data removed]",
      "text/plain": [
       "<Figure size 540x288 with 1 Axes>"
      ]
     },
     "metadata": {
      "needs_background": "light"
     },
     "output_type": "display_data"
    }
   ],
   "source": [
    "## page 134 - 141\n",
    "x = np.arange(len(distr_dict['weather']))\n",
    "width = 0.3\n",
    "\n",
    "plt.figure(figsize=(7.5,4))\n",
    "plt.bar(x-0.5*width,\n",
    "        distr_dict['paperl'],\n",
    "        color='r',\n",
    "        width=width,\n",
    "        alpha=0.6,\n",
    "        label='paper1')\n",
    "plt.bar(x+0.5*width,\n",
    "        distr_dict['paper2'],\n",
    "        color='b',\n",
    "        width=width,\n",
    "        alpha=0.6,\n",
    "        label='paper2')\n",
    "\n",
    "plt.legend(fontsize=13)\n",
    "plt.xticks(x, distr_dict['weather'], fontsize=13)\n",
    "plt.ylabel(ylabel='Demand',labelpad=70, fontsize=13)"
   ]
  },
  {
   "cell_type": "code",
   "execution_count": null,
   "metadata": {},
   "outputs": [],
   "source": []
  },
  {
   "cell_type": "code",
   "execution_count": 46,
   "metadata": {},
   "outputs": [
    {
     "data": {
      "text/plain": [
       "0    3.10\n",
       "1    3.24\n",
       "2    3.00\n",
       "3    6.00\n",
       "4    5.30\n",
       "5    8.75\n",
       "dtype: float64"
      ]
     },
     "execution_count": 46,
     "metadata": {},
     "output_type": "execute_result"
    }
   ],
   "source": [
    "## page 155 - 156\n",
    "import pandas as pd\n",
    "\n",
    "wage = pd.Series([3.10,3.24,3.00,6.00,5.30,8.75])\n",
    "wage"
   ]
  },
  {
   "cell_type": "code",
   "execution_count": 47,
   "metadata": {},
   "outputs": [
    {
     "data": {
      "text/plain": [
       "Mary      2.0\n",
       "Ann      22.0\n",
       "John      2.0\n",
       "David    44.0\n",
       "Frank     7.0\n",
       "Ben       9.0\n",
       "dtype: float64"
      ]
     },
     "execution_count": 47,
     "metadata": {},
     "output_type": "execute_result"
    }
   ],
   "source": [
    "## page 157 - 158\n",
    "\n",
    "index = ['Mary','Ann','John','David','Frank','Ben']\n",
    "exper = pd.Series([2.0,22.0,2.0,44.0,7.0,9.0],index=index) #specify series indices\n",
    "exper"
   ]
  },
  {
   "cell_type": "code",
   "execution_count": 48,
   "metadata": {},
   "outputs": [],
   "source": [
    "## page 159 - 161\n",
    "\n",
    "wage = pd.Series([3.10,3.24,3.00,6.00,5.30,8.75])\n",
    "\n",
    "#print(wage[2], '\\n')\n",
    "#print(wage[:3], '\\n')\n",
    "#print(wage[-2:])"
   ]
  },
  {
   "cell_type": "code",
   "execution_count": 49,
   "metadata": {},
   "outputs": [
    {
     "name": "stdout",
     "output_type": "stream",
     "text": [
      "2.0\n",
      "22.0\n"
     ]
    }
   ],
   "source": [
    "## page 162 - 163\n",
    "## VLOOKUP AND HLOOKUP in excel.\n",
    "\n",
    "print(exper['John'])\n",
    "print(exper['Ann'])"
   ]
  },
  {
   "cell_type": "code",
   "execution_count": 50,
   "metadata": {},
   "outputs": [],
   "source": [
    "#"
   ]
  },
  {
   "cell_type": "code",
   "execution_count": 51,
   "metadata": {},
   "outputs": [
    {
     "name": "stdout",
     "output_type": "stream",
     "text": [
      "John      2.0\n",
      "David    44.0\n",
      "Frank     7.0\n",
      "Ben       9.0\n",
      "dtype: float64 \n",
      "\n",
      "Mary     2.0\n",
      "Ann     22.0\n",
      "dtype: float64 \n",
      "\n",
      "Ann     22.0\n",
      "John     2.0\n",
      "dtype: float64\n"
     ]
    }
   ],
   "source": [
    "## page 164 - 167\n",
    "\n",
    "print(exper['John':], '\\n')\n",
    "print(exper[:'Ann'], '\\n')\n",
    "#select only the records u want to show\n",
    "print(exper[['Ann','John']])"
   ]
  },
  {
   "cell_type": "code",
   "execution_count": null,
   "metadata": {},
   "outputs": [],
   "source": []
  },
  {
   "cell_type": "code",
   "execution_count": 52,
   "metadata": {},
   "outputs": [
    {
     "name": "stdout",
     "output_type": "stream",
     "text": [
      "44.0 \n",
      "\n",
      "Mary     2.0\n",
      "Ann     22.0\n",
      "dtype: float64 \n",
      "\n",
      "David    44.0\n",
      "Frank     7.0\n",
      "Ben       9.0\n",
      "dtype: float64 \n",
      "\n",
      "John     2.0\n",
      "Mary     2.0\n",
      "Ann     22.0\n",
      "dtype: float64\n"
     ]
    }
   ],
   "source": [
    "## page 168 - 171\n",
    "\n",
    "print(exper[3], '\\n')\n",
    "print(exper[:2], '\\n')\n",
    "print(exper[-3:], '\\n')\n",
    "print(exper[[2,0,1]])"
   ]
  },
  {
   "cell_type": "code",
   "execution_count": null,
   "metadata": {},
   "outputs": [],
   "source": []
  },
  {
   "cell_type": "code",
   "execution_count": 53,
   "metadata": {},
   "outputs": [
    {
     "name": "stdout",
     "output_type": "stream",
     "text": [
      "Mary     2.0\n",
      "John     2.0\n",
      "Frank    7.0\n",
      "dtype: float64\n"
     ]
    }
   ],
   "source": [
    "## page 174 - 177\n",
    "## teaching about the loc function\n",
    "\n",
    "#print(exper.loc['Ann'], '\\n')\n",
    "#print(exper.loc['Frank':], '\\n')\n",
    "#print(exper.loc[['Mary', 'John']], '\\n')\n",
    "print(exper.loc[::2])"
   ]
  },
  {
   "cell_type": "code",
   "execution_count": 54,
   "metadata": {},
   "outputs": [
    {
     "data": {
      "text/plain": [
       "max_speed    4\n",
       "shield       5\n",
       "Name: viper, dtype: int64"
      ]
     },
     "execution_count": 54,
     "metadata": {},
     "output_type": "execute_result"
    }
   ],
   "source": [
    "df = pd.DataFrame([[1, 2], [4, 5], [7, 8]],\n",
    "     index=['cobra', 'viper', 'sidewinder'],\n",
    "     columns=['max_speed', 'shield'])\n",
    "\n",
    "df.loc['viper']"
   ]
  },
  {
   "cell_type": "code",
   "execution_count": 55,
   "metadata": {},
   "outputs": [
    {
     "data": {
      "text/plain": [
       "a    1\n",
       "b    2\n",
       "c    3\n",
       "d    4\n",
       "Name: 0, dtype: int64"
      ]
     },
     "execution_count": 55,
     "metadata": {},
     "output_type": "execute_result"
    }
   ],
   "source": [
    "mydict = [\n",
    "    {'a': 1, 'b': 2, 'c': 3, 'd': 4},\n",
    "    {'a': 100, 'b': 200, 'c': 300, 'd': 400},\n",
    "    {'a': 1000, 'b': 2000, 'c': 3000, 'd': 4000 }\n",
    "]\n",
    "df = pd.DataFrame(mydict)\n",
    "df.iloc[0]"
   ]
  },
  {
   "cell_type": "code",
   "execution_count": 56,
   "metadata": {},
   "outputs": [
    {
     "name": "stdout",
     "output_type": "stream",
     "text": [
      "0    3.10\n",
      "1    3.24\n",
      "2    3.00\n",
      "dtype: float64 \n",
      "\n",
      "0    3.10\n",
      "1    3.24\n",
      "dtype: float64 \n",
      "\n"
     ]
    }
   ],
   "source": [
    "## loc gets rows (or columns) with particular labels from the index. -> use label\n",
    "## iloc gets rows (or columns) at particular positions in the index -> use integer\n",
    "## (so it only takes integers)\n",
    "\n",
    "print(wage.loc[:2], '\\n')\n",
    "print(wage.iloc[:2],'\\n')"
   ]
  },
  {
   "cell_type": "code",
   "execution_count": 57,
   "metadata": {},
   "outputs": [
    {
     "data": {
      "text/html": [
       "<div>\n",
       "<style scoped>\n",
       "    .dataframe tbody tr th:only-of-type {\n",
       "        vertical-align: middle;\n",
       "    }\n",
       "\n",
       "    .dataframe tbody tr th {\n",
       "        vertical-align: top;\n",
       "    }\n",
       "\n",
       "    .dataframe thead th {\n",
       "        text-align: right;\n",
       "    }\n",
       "</style>\n",
       "<table border=\"1\" class=\"dataframe\">\n",
       "  <thead>\n",
       "    <tr style=\"text-align: right;\">\n",
       "      <th></th>\n",
       "      <th>wage</th>\n",
       "      <th>educ</th>\n",
       "      <th>exper</th>\n",
       "      <th>gender</th>\n",
       "      <th>married</th>\n",
       "    </tr>\n",
       "  </thead>\n",
       "  <tbody>\n",
       "    <tr>\n",
       "      <th>0</th>\n",
       "      <td>3.10</td>\n",
       "      <td>11.0</td>\n",
       "      <td>2.0</td>\n",
       "      <td>Female</td>\n",
       "      <td>False</td>\n",
       "    </tr>\n",
       "    <tr>\n",
       "      <th>1</th>\n",
       "      <td>3.24</td>\n",
       "      <td>12.0</td>\n",
       "      <td>22.0</td>\n",
       "      <td>Female</td>\n",
       "      <td>True</td>\n",
       "    </tr>\n",
       "    <tr>\n",
       "      <th>2</th>\n",
       "      <td>3.00</td>\n",
       "      <td>11.0</td>\n",
       "      <td>2.0</td>\n",
       "      <td>Male</td>\n",
       "      <td>False</td>\n",
       "    </tr>\n",
       "    <tr>\n",
       "      <th>3</th>\n",
       "      <td>6.00</td>\n",
       "      <td>8.0</td>\n",
       "      <td>44.0</td>\n",
       "      <td>Male</td>\n",
       "      <td>True</td>\n",
       "    </tr>\n",
       "    <tr>\n",
       "      <th>4</th>\n",
       "      <td>5.30</td>\n",
       "      <td>12.0</td>\n",
       "      <td>7.0</td>\n",
       "      <td>Male</td>\n",
       "      <td>True</td>\n",
       "    </tr>\n",
       "    <tr>\n",
       "      <th>5</th>\n",
       "      <td>8.75</td>\n",
       "      <td>16.0</td>\n",
       "      <td>9.0</td>\n",
       "      <td>Male</td>\n",
       "      <td>True</td>\n",
       "    </tr>\n",
       "  </tbody>\n",
       "</table>\n",
       "</div>"
      ],
      "text/plain": [
       "   wage  educ  exper  gender  married\n",
       "0  3.10  11.0    2.0  Female    False\n",
       "1  3.24  12.0   22.0  Female     True\n",
       "2  3.00  11.0    2.0    Male    False\n",
       "3  6.00   8.0   44.0    Male     True\n",
       "4  5.30  12.0    7.0    Male     True\n",
       "5  8.75  16.0    9.0    Male     True"
      ]
     },
     "execution_count": 57,
     "metadata": {},
     "output_type": "execute_result"
    }
   ],
   "source": [
    "## page 181 - 186\n",
    "\n",
    "data_dict = {\n",
    "    'wage' : [3.10,3.24,3.00,6.00,5.30,8.75],\n",
    "    'educ' : [11.0,12.0,11.0,8.0,12.0,16.0],\n",
    "    'exper': [2.0,22.0, 2.0, 44.0, 7.0, 9.0],\n",
    "    'gender' : ['Female','Female','Male','Male','Male','Male'],\n",
    "    'married' : [False,True,False,True,True,True],\n",
    "}\n",
    "\n",
    "data_frame = pd.DataFrame(data_dict)\n",
    "data_frame"
   ]
  },
  {
   "cell_type": "code",
   "execution_count": 58,
   "metadata": {},
   "outputs": [
    {
     "data": {
      "text/html": [
       "<div>\n",
       "<style scoped>\n",
       "    .dataframe tbody tr th:only-of-type {\n",
       "        vertical-align: middle;\n",
       "    }\n",
       "\n",
       "    .dataframe tbody tr th {\n",
       "        vertical-align: top;\n",
       "    }\n",
       "\n",
       "    .dataframe thead th {\n",
       "        text-align: right;\n",
       "    }\n",
       "</style>\n",
       "<table border=\"1\" class=\"dataframe\">\n",
       "  <thead>\n",
       "    <tr style=\"text-align: right;\">\n",
       "      <th></th>\n",
       "      <th>wage</th>\n",
       "      <th>educ</th>\n",
       "      <th>exper</th>\n",
       "      <th>gender</th>\n",
       "      <th>married</th>\n",
       "    </tr>\n",
       "  </thead>\n",
       "  <tbody>\n",
       "    <tr>\n",
       "      <th>Mary</th>\n",
       "      <td>3.10</td>\n",
       "      <td>11.0</td>\n",
       "      <td>2.0</td>\n",
       "      <td>Female</td>\n",
       "      <td>False</td>\n",
       "    </tr>\n",
       "    <tr>\n",
       "      <th>Ann</th>\n",
       "      <td>3.24</td>\n",
       "      <td>12.0</td>\n",
       "      <td>22.0</td>\n",
       "      <td>Female</td>\n",
       "      <td>True</td>\n",
       "    </tr>\n",
       "    <tr>\n",
       "      <th>John</th>\n",
       "      <td>3.00</td>\n",
       "      <td>11.0</td>\n",
       "      <td>2.0</td>\n",
       "      <td>Male</td>\n",
       "      <td>False</td>\n",
       "    </tr>\n",
       "    <tr>\n",
       "      <th>David</th>\n",
       "      <td>6.00</td>\n",
       "      <td>8.0</td>\n",
       "      <td>44.0</td>\n",
       "      <td>Male</td>\n",
       "      <td>True</td>\n",
       "    </tr>\n",
       "    <tr>\n",
       "      <th>Frank</th>\n",
       "      <td>5.30</td>\n",
       "      <td>12.0</td>\n",
       "      <td>7.0</td>\n",
       "      <td>Male</td>\n",
       "      <td>True</td>\n",
       "    </tr>\n",
       "    <tr>\n",
       "      <th>Ben</th>\n",
       "      <td>8.75</td>\n",
       "      <td>16.0</td>\n",
       "      <td>9.0</td>\n",
       "      <td>Male</td>\n",
       "      <td>True</td>\n",
       "    </tr>\n",
       "  </tbody>\n",
       "</table>\n",
       "</div>"
      ],
      "text/plain": [
       "       wage  educ  exper  gender  married\n",
       "Mary   3.10  11.0    2.0  Female    False\n",
       "Ann    3.24  12.0   22.0  Female     True\n",
       "John   3.00  11.0    2.0    Male    False\n",
       "David  6.00   8.0   44.0    Male     True\n",
       "Frank  5.30  12.0    7.0    Male     True\n",
       "Ben    8.75  16.0    9.0    Male     True"
      ]
     },
     "execution_count": 58,
     "metadata": {},
     "output_type": "execute_result"
    }
   ],
   "source": [
    "index = ['Mary','Ann','John','David','Frank','Ben']\n",
    "data_frame_new = pd.DataFrame(data_dict, index=index)\n",
    "data_frame_new"
   ]
  },
  {
   "cell_type": "code",
   "execution_count": 59,
   "metadata": {},
   "outputs": [
    {
     "data": {
      "text/plain": [
       "0    3.10\n",
       "1    3.24\n",
       "2    3.00\n",
       "3    6.00\n",
       "4    5.30\n",
       "5    8.75\n",
       "Name: wage, dtype: float64"
      ]
     },
     "execution_count": 59,
     "metadata": {},
     "output_type": "execute_result"
    }
   ],
   "source": [
    "## page 188\n",
    "wage = data_frame['wage']\n",
    "wage"
   ]
  },
  {
   "cell_type": "code",
   "execution_count": 60,
   "metadata": {},
   "outputs": [
    {
     "data": {
      "text/plain": [
       "pandas.core.series.Series"
      ]
     },
     "execution_count": 60,
     "metadata": {},
     "output_type": "execute_result"
    }
   ],
   "source": [
    "type(wage)"
   ]
  },
  {
   "cell_type": "code",
   "execution_count": 61,
   "metadata": {},
   "outputs": [
    {
     "data": {
      "text/html": [
       "<div>\n",
       "<style scoped>\n",
       "    .dataframe tbody tr th:only-of-type {\n",
       "        vertical-align: middle;\n",
       "    }\n",
       "\n",
       "    .dataframe tbody tr th {\n",
       "        vertical-align: top;\n",
       "    }\n",
       "\n",
       "    .dataframe thead th {\n",
       "        text-align: right;\n",
       "    }\n",
       "</style>\n",
       "<table border=\"1\" class=\"dataframe\">\n",
       "  <thead>\n",
       "    <tr style=\"text-align: right;\">\n",
       "      <th></th>\n",
       "      <th>educ</th>\n",
       "      <th>exper</th>\n",
       "    </tr>\n",
       "  </thead>\n",
       "  <tbody>\n",
       "    <tr>\n",
       "      <th>0</th>\n",
       "      <td>11.0</td>\n",
       "      <td>2.0</td>\n",
       "    </tr>\n",
       "    <tr>\n",
       "      <th>1</th>\n",
       "      <td>12.0</td>\n",
       "      <td>22.0</td>\n",
       "    </tr>\n",
       "    <tr>\n",
       "      <th>2</th>\n",
       "      <td>11.0</td>\n",
       "      <td>2.0</td>\n",
       "    </tr>\n",
       "    <tr>\n",
       "      <th>3</th>\n",
       "      <td>8.0</td>\n",
       "      <td>44.0</td>\n",
       "    </tr>\n",
       "    <tr>\n",
       "      <th>4</th>\n",
       "      <td>12.0</td>\n",
       "      <td>7.0</td>\n",
       "    </tr>\n",
       "    <tr>\n",
       "      <th>5</th>\n",
       "      <td>16.0</td>\n",
       "      <td>9.0</td>\n",
       "    </tr>\n",
       "  </tbody>\n",
       "</table>\n",
       "</div>"
      ],
      "text/plain": [
       "   educ  exper\n",
       "0  11.0    2.0\n",
       "1  12.0   22.0\n",
       "2  11.0    2.0\n",
       "3   8.0   44.0\n",
       "4  12.0    7.0\n",
       "5  16.0    9.0"
      ]
     },
     "execution_count": 61,
     "metadata": {},
     "output_type": "execute_result"
    }
   ],
   "source": [
    "## page 189\n",
    "## filter the education and experience\n",
    "\n",
    "skills = data_frame[['educ','exper']]\n",
    "skills"
   ]
  },
  {
   "cell_type": "code",
   "execution_count": 62,
   "metadata": {},
   "outputs": [
    {
     "data": {
      "text/html": [
       "<div>\n",
       "<style scoped>\n",
       "    .dataframe tbody tr th:only-of-type {\n",
       "        vertical-align: middle;\n",
       "    }\n",
       "\n",
       "    .dataframe tbody tr th {\n",
       "        vertical-align: top;\n",
       "    }\n",
       "\n",
       "    .dataframe thead th {\n",
       "        text-align: right;\n",
       "    }\n",
       "</style>\n",
       "<table border=\"1\" class=\"dataframe\">\n",
       "  <thead>\n",
       "    <tr style=\"text-align: right;\">\n",
       "      <th></th>\n",
       "      <th>wage</th>\n",
       "      <th>educ</th>\n",
       "      <th>exper</th>\n",
       "      <th>gender</th>\n",
       "      <th>married</th>\n",
       "    </tr>\n",
       "  </thead>\n",
       "  <tbody>\n",
       "    <tr>\n",
       "      <th>John</th>\n",
       "      <td>3.0</td>\n",
       "      <td>11.0</td>\n",
       "      <td>2.0</td>\n",
       "      <td>Male</td>\n",
       "      <td>False</td>\n",
       "    </tr>\n",
       "  </tbody>\n",
       "</table>\n",
       "</div>"
      ],
      "text/plain": [
       "      wage  educ  exper gender  married\n",
       "John   3.0  11.0    2.0   Male    False"
      ]
     },
     "execution_count": 62,
     "metadata": {},
     "output_type": "execute_result"
    }
   ],
   "source": [
    "# page 191\n",
    "\n",
    "john = data_frame_new[2:3]\n",
    "john"
   ]
  },
  {
   "cell_type": "code",
   "execution_count": 63,
   "metadata": {},
   "outputs": [
    {
     "data": {
      "text/html": [
       "<div>\n",
       "<style scoped>\n",
       "    .dataframe tbody tr th:only-of-type {\n",
       "        vertical-align: middle;\n",
       "    }\n",
       "\n",
       "    .dataframe tbody tr th {\n",
       "        vertical-align: top;\n",
       "    }\n",
       "\n",
       "    .dataframe thead th {\n",
       "        text-align: right;\n",
       "    }\n",
       "</style>\n",
       "<table border=\"1\" class=\"dataframe\">\n",
       "  <thead>\n",
       "    <tr style=\"text-align: right;\">\n",
       "      <th></th>\n",
       "      <th>wage</th>\n",
       "      <th>educ</th>\n",
       "      <th>exper</th>\n",
       "      <th>gender</th>\n",
       "      <th>married</th>\n",
       "    </tr>\n",
       "  </thead>\n",
       "  <tbody>\n",
       "    <tr>\n",
       "      <th>David</th>\n",
       "      <td>6.0</td>\n",
       "      <td>8.0</td>\n",
       "      <td>44.0</td>\n",
       "      <td>Male</td>\n",
       "      <td>True</td>\n",
       "    </tr>\n",
       "    <tr>\n",
       "      <th>Frank</th>\n",
       "      <td>5.3</td>\n",
       "      <td>12.0</td>\n",
       "      <td>7.0</td>\n",
       "      <td>Male</td>\n",
       "      <td>True</td>\n",
       "    </tr>\n",
       "  </tbody>\n",
       "</table>\n",
       "</div>"
      ],
      "text/plain": [
       "       wage  educ  exper gender  married\n",
       "David   6.0   8.0   44.0   Male     True\n",
       "Frank   5.3  12.0    7.0   Male     True"
      ]
     },
     "execution_count": 63,
     "metadata": {},
     "output_type": "execute_result"
    }
   ],
   "source": [
    "# page 192\n",
    "\n",
    "david = data_frame_new['David':'Frank']\n",
    "david"
   ]
  },
  {
   "cell_type": "code",
   "execution_count": 64,
   "metadata": {},
   "outputs": [],
   "source": [
    "# ignore page 193"
   ]
  },
  {
   "cell_type": "code",
   "execution_count": 65,
   "metadata": {},
   "outputs": [
    {
     "data": {
      "text/html": [
       "<div>\n",
       "<style scoped>\n",
       "    .dataframe tbody tr th:only-of-type {\n",
       "        vertical-align: middle;\n",
       "    }\n",
       "\n",
       "    .dataframe tbody tr th {\n",
       "        vertical-align: top;\n",
       "    }\n",
       "\n",
       "    .dataframe thead th {\n",
       "        text-align: right;\n",
       "    }\n",
       "</style>\n",
       "<table border=\"1\" class=\"dataframe\">\n",
       "  <thead>\n",
       "    <tr style=\"text-align: right;\">\n",
       "      <th></th>\n",
       "      <th>wage</th>\n",
       "      <th>educ</th>\n",
       "      <th>exper</th>\n",
       "      <th>gender</th>\n",
       "      <th>married</th>\n",
       "    </tr>\n",
       "  </thead>\n",
       "  <tbody>\n",
       "    <tr>\n",
       "      <th>0</th>\n",
       "      <td>3.10</td>\n",
       "      <td>11.0</td>\n",
       "      <td>2.0</td>\n",
       "      <td>Female</td>\n",
       "      <td>False</td>\n",
       "    </tr>\n",
       "    <tr>\n",
       "      <th>1</th>\n",
       "      <td>3.24</td>\n",
       "      <td>12.0</td>\n",
       "      <td>22.0</td>\n",
       "      <td>Female</td>\n",
       "      <td>True</td>\n",
       "    </tr>\n",
       "    <tr>\n",
       "      <th>2</th>\n",
       "      <td>3.00</td>\n",
       "      <td>11.0</td>\n",
       "      <td>2.0</td>\n",
       "      <td>Male</td>\n",
       "      <td>False</td>\n",
       "    </tr>\n",
       "    <tr>\n",
       "      <th>3</th>\n",
       "      <td>6.00</td>\n",
       "      <td>8.0</td>\n",
       "      <td>44.0</td>\n",
       "      <td>Male</td>\n",
       "      <td>True</td>\n",
       "    </tr>\n",
       "    <tr>\n",
       "      <th>4</th>\n",
       "      <td>5.30</td>\n",
       "      <td>12.0</td>\n",
       "      <td>7.0</td>\n",
       "      <td>Male</td>\n",
       "      <td>True</td>\n",
       "    </tr>\n",
       "    <tr>\n",
       "      <th>5</th>\n",
       "      <td>8.75</td>\n",
       "      <td>16.0</td>\n",
       "      <td>9.0</td>\n",
       "      <td>Male</td>\n",
       "      <td>True</td>\n",
       "    </tr>\n",
       "  </tbody>\n",
       "</table>\n",
       "</div>"
      ],
      "text/plain": [
       "   wage  educ  exper  gender  married\n",
       "0  3.10  11.0    2.0  Female    False\n",
       "1  3.24  12.0   22.0  Female     True\n",
       "2  3.00  11.0    2.0    Male    False\n",
       "3  6.00   8.0   44.0    Male     True\n",
       "4  5.30  12.0    7.0    Male     True\n",
       "5  8.75  16.0    9.0    Male     True"
      ]
     },
     "execution_count": 65,
     "metadata": {},
     "output_type": "execute_result"
    }
   ],
   "source": [
    "data_frame"
   ]
  },
  {
   "cell_type": "code",
   "execution_count": 66,
   "metadata": {},
   "outputs": [
    {
     "data": {
      "text/html": [
       "<div>\n",
       "<style scoped>\n",
       "    .dataframe tbody tr th:only-of-type {\n",
       "        vertical-align: middle;\n",
       "    }\n",
       "\n",
       "    .dataframe tbody tr th {\n",
       "        vertical-align: top;\n",
       "    }\n",
       "\n",
       "    .dataframe thead th {\n",
       "        text-align: right;\n",
       "    }\n",
       "</style>\n",
       "<table border=\"1\" class=\"dataframe\">\n",
       "  <thead>\n",
       "    <tr style=\"text-align: right;\">\n",
       "      <th></th>\n",
       "      <th>educ</th>\n",
       "      <th>exper</th>\n",
       "    </tr>\n",
       "  </thead>\n",
       "  <tbody>\n",
       "    <tr>\n",
       "      <th>1</th>\n",
       "      <td>12.0</td>\n",
       "      <td>22.0</td>\n",
       "    </tr>\n",
       "    <tr>\n",
       "      <th>2</th>\n",
       "      <td>11.0</td>\n",
       "      <td>2.0</td>\n",
       "    </tr>\n",
       "  </tbody>\n",
       "</table>\n",
       "</div>"
      ],
      "text/plain": [
       "   educ  exper\n",
       "1  12.0   22.0\n",
       "2  11.0    2.0"
      ]
     },
     "execution_count": 66,
     "metadata": {},
     "output_type": "execute_result"
    }
   ],
   "source": [
    "# page 196\n",
    "data_subset = data_frame.iloc[1:3,1:3]\n",
    "data_subset"
   ]
  },
  {
   "cell_type": "code",
   "execution_count": 67,
   "metadata": {},
   "outputs": [
    {
     "data": {
      "text/html": [
       "<div>\n",
       "<style scoped>\n",
       "    .dataframe tbody tr th:only-of-type {\n",
       "        vertical-align: middle;\n",
       "    }\n",
       "\n",
       "    .dataframe tbody tr th {\n",
       "        vertical-align: top;\n",
       "    }\n",
       "\n",
       "    .dataframe thead th {\n",
       "        text-align: right;\n",
       "    }\n",
       "</style>\n",
       "<table border=\"1\" class=\"dataframe\">\n",
       "  <thead>\n",
       "    <tr style=\"text-align: right;\">\n",
       "      <th></th>\n",
       "      <th>wage</th>\n",
       "      <th>educ</th>\n",
       "      <th>exper</th>\n",
       "      <th>gender</th>\n",
       "      <th>married</th>\n",
       "    </tr>\n",
       "  </thead>\n",
       "  <tbody>\n",
       "    <tr>\n",
       "      <th>Mary</th>\n",
       "      <td>3.10</td>\n",
       "      <td>11.0</td>\n",
       "      <td>2.0</td>\n",
       "      <td>Female</td>\n",
       "      <td>False</td>\n",
       "    </tr>\n",
       "    <tr>\n",
       "      <th>Ann</th>\n",
       "      <td>3.24</td>\n",
       "      <td>12.0</td>\n",
       "      <td>22.0</td>\n",
       "      <td>Female</td>\n",
       "      <td>True</td>\n",
       "    </tr>\n",
       "    <tr>\n",
       "      <th>John</th>\n",
       "      <td>3.00</td>\n",
       "      <td>11.0</td>\n",
       "      <td>2.0</td>\n",
       "      <td>Male</td>\n",
       "      <td>False</td>\n",
       "    </tr>\n",
       "    <tr>\n",
       "      <th>David</th>\n",
       "      <td>6.00</td>\n",
       "      <td>8.0</td>\n",
       "      <td>44.0</td>\n",
       "      <td>Male</td>\n",
       "      <td>True</td>\n",
       "    </tr>\n",
       "    <tr>\n",
       "      <th>Frank</th>\n",
       "      <td>5.30</td>\n",
       "      <td>12.0</td>\n",
       "      <td>7.0</td>\n",
       "      <td>Male</td>\n",
       "      <td>True</td>\n",
       "    </tr>\n",
       "    <tr>\n",
       "      <th>Ben</th>\n",
       "      <td>8.75</td>\n",
       "      <td>16.0</td>\n",
       "      <td>9.0</td>\n",
       "      <td>Male</td>\n",
       "      <td>True</td>\n",
       "    </tr>\n",
       "  </tbody>\n",
       "</table>\n",
       "</div>"
      ],
      "text/plain": [
       "       wage  educ  exper  gender  married\n",
       "Mary   3.10  11.0    2.0  Female    False\n",
       "Ann    3.24  12.0   22.0  Female     True\n",
       "John   3.00  11.0    2.0    Male    False\n",
       "David  6.00   8.0   44.0    Male     True\n",
       "Frank  5.30  12.0    7.0    Male     True\n",
       "Ben    8.75  16.0    9.0    Male     True"
      ]
     },
     "execution_count": 67,
     "metadata": {},
     "output_type": "execute_result"
    }
   ],
   "source": [
    "data_frame_new"
   ]
  },
  {
   "cell_type": "code",
   "execution_count": 68,
   "metadata": {},
   "outputs": [
    {
     "name": "stdout",
     "output_type": "stream",
     "text": [
      "True\n"
     ]
    }
   ],
   "source": [
    "# page 197\n",
    "# API\n",
    "# inheritance\n",
    "\n",
    "data_new_subset = data_frame_new.iloc[1][4]\n",
    "print(data_new_subset == True)"
   ]
  },
  {
   "cell_type": "markdown",
   "metadata": {},
   "source": [
    "## stop at the page 197, cover the balance tomorrow"
   ]
  },
  {
   "cell_type": "code",
   "execution_count": 69,
   "metadata": {},
   "outputs": [
    {
     "data": {
      "text/html": [
       "<div>\n",
       "<style scoped>\n",
       "    .dataframe tbody tr th:only-of-type {\n",
       "        vertical-align: middle;\n",
       "    }\n",
       "\n",
       "    .dataframe tbody tr th {\n",
       "        vertical-align: top;\n",
       "    }\n",
       "\n",
       "    .dataframe thead th {\n",
       "        text-align: right;\n",
       "    }\n",
       "</style>\n",
       "<table border=\"1\" class=\"dataframe\">\n",
       "  <thead>\n",
       "    <tr style=\"text-align: right;\">\n",
       "      <th></th>\n",
       "      <th>educ</th>\n",
       "      <th>exper</th>\n",
       "    </tr>\n",
       "  </thead>\n",
       "  <tbody>\n",
       "    <tr>\n",
       "      <th>1</th>\n",
       "      <td>12.0</td>\n",
       "      <td>22.0</td>\n",
       "    </tr>\n",
       "    <tr>\n",
       "      <th>2</th>\n",
       "      <td>11.0</td>\n",
       "      <td>2.0</td>\n",
       "    </tr>\n",
       "  </tbody>\n",
       "</table>\n",
       "</div>"
      ],
      "text/plain": [
       "   educ  exper\n",
       "1  12.0   22.0\n",
       "2  11.0    2.0"
      ]
     },
     "execution_count": 69,
     "metadata": {},
     "output_type": "execute_result"
    }
   ],
   "source": [
    "# page 198\n",
    "\n",
    "\n",
    "\n",
    "data_subset = data_frame.loc[1:2, 'educ': 'exper']\n",
    "data_subset"
   ]
  },
  {
   "cell_type": "code",
   "execution_count": 70,
   "metadata": {
    "scrolled": true
   },
   "outputs": [
    {
     "data": {
      "text/html": [
       "<div>\n",
       "<style scoped>\n",
       "    .dataframe tbody tr th:only-of-type {\n",
       "        vertical-align: middle;\n",
       "    }\n",
       "\n",
       "    .dataframe tbody tr th {\n",
       "        vertical-align: top;\n",
       "    }\n",
       "\n",
       "    .dataframe thead th {\n",
       "        text-align: right;\n",
       "    }\n",
       "</style>\n",
       "<table border=\"1\" class=\"dataframe\">\n",
       "  <thead>\n",
       "    <tr style=\"text-align: right;\">\n",
       "      <th></th>\n",
       "      <th>wage</th>\n",
       "      <th>educ</th>\n",
       "      <th>exper</th>\n",
       "      <th>gender</th>\n",
       "      <th>married</th>\n",
       "    </tr>\n",
       "  </thead>\n",
       "  <tbody>\n",
       "    <tr>\n",
       "      <th>0</th>\n",
       "      <td>3.10</td>\n",
       "      <td>11.0</td>\n",
       "      <td>2.0</td>\n",
       "      <td>Female</td>\n",
       "      <td>False</td>\n",
       "    </tr>\n",
       "    <tr>\n",
       "      <th>1</th>\n",
       "      <td>3.24</td>\n",
       "      <td>12.0</td>\n",
       "      <td>22.0</td>\n",
       "      <td>Female</td>\n",
       "      <td>True</td>\n",
       "    </tr>\n",
       "    <tr>\n",
       "      <th>2</th>\n",
       "      <td>3.00</td>\n",
       "      <td>11.0</td>\n",
       "      <td>2.0</td>\n",
       "      <td>Male</td>\n",
       "      <td>False</td>\n",
       "    </tr>\n",
       "    <tr>\n",
       "      <th>3</th>\n",
       "      <td>6.00</td>\n",
       "      <td>8.0</td>\n",
       "      <td>44.0</td>\n",
       "      <td>Male</td>\n",
       "      <td>True</td>\n",
       "    </tr>\n",
       "    <tr>\n",
       "      <th>4</th>\n",
       "      <td>5.30</td>\n",
       "      <td>12.0</td>\n",
       "      <td>7.0</td>\n",
       "      <td>Male</td>\n",
       "      <td>True</td>\n",
       "    </tr>\n",
       "    <tr>\n",
       "      <th>5</th>\n",
       "      <td>8.75</td>\n",
       "      <td>16.0</td>\n",
       "      <td>9.0</td>\n",
       "      <td>Male</td>\n",
       "      <td>True</td>\n",
       "    </tr>\n",
       "  </tbody>\n",
       "</table>\n",
       "</div>"
      ],
      "text/plain": [
       "   wage  educ  exper  gender  married\n",
       "0  3.10  11.0    2.0  Female    False\n",
       "1  3.24  12.0   22.0  Female     True\n",
       "2  3.00  11.0    2.0    Male    False\n",
       "3  6.00   8.0   44.0    Male     True\n",
       "4  5.30  12.0    7.0    Male     True\n",
       "5  8.75  16.0    9.0    Male     True"
      ]
     },
     "execution_count": 70,
     "metadata": {},
     "output_type": "execute_result"
    }
   ],
   "source": [
    "data_dict = {\n",
    "    'wage' : [3.10,3.24,3.00,6.00,5.30,8.75],\n",
    "    'educ' : [11.0,12.0,11.0,8.0,12.0,16.0],\n",
    "    'exper': [2.0,22.0, 2.0, 44.0, 7.0, 9.0],\n",
    "    'gender' : ['Female','Female','Male','Male','Male','Male'],\n",
    "    'married' : [False,True,False,True,True,True],\n",
    "}\n",
    "\n",
    "data_frame = pd.DataFrame(data_dict)\n",
    "data_frame"
   ]
  },
  {
   "cell_type": "code",
   "execution_count": 71,
   "metadata": {},
   "outputs": [
    {
     "data": {
      "text/plain": [
       "0     2.0\n",
       "1    22.0\n",
       "2     2.0\n",
       "3    44.0\n",
       "4     7.0\n",
       "5     9.0\n",
       "Name: exper, dtype: float64"
      ]
     },
     "execution_count": 71,
     "metadata": {},
     "output_type": "execute_result"
    }
   ],
   "source": [
    "# page 200\n",
    "data_frame.iloc[:,2]"
   ]
  },
  {
   "cell_type": "code",
   "execution_count": 72,
   "metadata": {},
   "outputs": [
    {
     "data": {
      "text/html": [
       "<div>\n",
       "<style scoped>\n",
       "    .dataframe tbody tr th:only-of-type {\n",
       "        vertical-align: middle;\n",
       "    }\n",
       "\n",
       "    .dataframe tbody tr th {\n",
       "        vertical-align: top;\n",
       "    }\n",
       "\n",
       "    .dataframe thead th {\n",
       "        text-align: right;\n",
       "    }\n",
       "</style>\n",
       "<table border=\"1\" class=\"dataframe\">\n",
       "  <thead>\n",
       "    <tr style=\"text-align: right;\">\n",
       "      <th></th>\n",
       "      <th>wage</th>\n",
       "      <th>educ</th>\n",
       "      <th>exper</th>\n",
       "      <th>gender</th>\n",
       "      <th>married</th>\n",
       "    </tr>\n",
       "  </thead>\n",
       "  <tbody>\n",
       "    <tr>\n",
       "      <th>Mary</th>\n",
       "      <td>3.10</td>\n",
       "      <td>11.0</td>\n",
       "      <td>2.0</td>\n",
       "      <td>Female</td>\n",
       "      <td>False</td>\n",
       "    </tr>\n",
       "    <tr>\n",
       "      <th>Ann</th>\n",
       "      <td>3.24</td>\n",
       "      <td>12.0</td>\n",
       "      <td>22.0</td>\n",
       "      <td>Female</td>\n",
       "      <td>True</td>\n",
       "    </tr>\n",
       "    <tr>\n",
       "      <th>John</th>\n",
       "      <td>3.00</td>\n",
       "      <td>11.0</td>\n",
       "      <td>2.0</td>\n",
       "      <td>Male</td>\n",
       "      <td>False</td>\n",
       "    </tr>\n",
       "    <tr>\n",
       "      <th>David</th>\n",
       "      <td>6.00</td>\n",
       "      <td>8.0</td>\n",
       "      <td>44.0</td>\n",
       "      <td>Male</td>\n",
       "      <td>True</td>\n",
       "    </tr>\n",
       "    <tr>\n",
       "      <th>Frank</th>\n",
       "      <td>5.30</td>\n",
       "      <td>12.0</td>\n",
       "      <td>7.0</td>\n",
       "      <td>Male</td>\n",
       "      <td>True</td>\n",
       "    </tr>\n",
       "    <tr>\n",
       "      <th>Ben</th>\n",
       "      <td>8.75</td>\n",
       "      <td>16.0</td>\n",
       "      <td>9.0</td>\n",
       "      <td>Male</td>\n",
       "      <td>True</td>\n",
       "    </tr>\n",
       "  </tbody>\n",
       "</table>\n",
       "</div>"
      ],
      "text/plain": [
       "       wage  educ  exper  gender  married\n",
       "Mary   3.10  11.0    2.0  Female    False\n",
       "Ann    3.24  12.0   22.0  Female     True\n",
       "John   3.00  11.0    2.0    Male    False\n",
       "David  6.00   8.0   44.0    Male     True\n",
       "Frank  5.30  12.0    7.0    Male     True\n",
       "Ben    8.75  16.0    9.0    Male     True"
      ]
     },
     "execution_count": 72,
     "metadata": {},
     "output_type": "execute_result"
    }
   ],
   "source": [
    "index = ['Mary','Ann','John','David','Frank','Ben']\n",
    "data_frame_new = pd.DataFrame(data_dict, index=index)\n",
    "data_frame_new"
   ]
  },
  {
   "cell_type": "code",
   "execution_count": 73,
   "metadata": {},
   "outputs": [
    {
     "data": {
      "text/html": [
       "<div>\n",
       "<style scoped>\n",
       "    .dataframe tbody tr th:only-of-type {\n",
       "        vertical-align: middle;\n",
       "    }\n",
       "\n",
       "    .dataframe tbody tr th {\n",
       "        vertical-align: top;\n",
       "    }\n",
       "\n",
       "    .dataframe thead th {\n",
       "        text-align: right;\n",
       "    }\n",
       "</style>\n",
       "<table border=\"1\" class=\"dataframe\">\n",
       "  <thead>\n",
       "    <tr style=\"text-align: right;\">\n",
       "      <th></th>\n",
       "      <th>wage</th>\n",
       "      <th>educ</th>\n",
       "      <th>exper</th>\n",
       "      <th>gender</th>\n",
       "      <th>married</th>\n",
       "    </tr>\n",
       "  </thead>\n",
       "  <tbody>\n",
       "    <tr>\n",
       "      <th>John</th>\n",
       "      <td>3.00</td>\n",
       "      <td>11.0</td>\n",
       "      <td>2.0</td>\n",
       "      <td>Male</td>\n",
       "      <td>False</td>\n",
       "    </tr>\n",
       "    <tr>\n",
       "      <th>David</th>\n",
       "      <td>6.00</td>\n",
       "      <td>8.0</td>\n",
       "      <td>44.0</td>\n",
       "      <td>Male</td>\n",
       "      <td>True</td>\n",
       "    </tr>\n",
       "    <tr>\n",
       "      <th>Frank</th>\n",
       "      <td>5.30</td>\n",
       "      <td>12.0</td>\n",
       "      <td>7.0</td>\n",
       "      <td>Male</td>\n",
       "      <td>True</td>\n",
       "    </tr>\n",
       "    <tr>\n",
       "      <th>Ben</th>\n",
       "      <td>8.75</td>\n",
       "      <td>16.0</td>\n",
       "      <td>9.0</td>\n",
       "      <td>Male</td>\n",
       "      <td>True</td>\n",
       "    </tr>\n",
       "  </tbody>\n",
       "</table>\n",
       "</div>"
      ],
      "text/plain": [
       "       wage  educ  exper gender  married\n",
       "John   3.00  11.0    2.0   Male    False\n",
       "David  6.00   8.0   44.0   Male     True\n",
       "Frank  5.30  12.0    7.0   Male     True\n",
       "Ben    8.75  16.0    9.0   Male     True"
      ]
     },
     "execution_count": 73,
     "metadata": {},
     "output_type": "execute_result"
    }
   ],
   "source": [
    "# page 201\n",
    "rows = data_frame_new.loc['John':'Ben',:]\n",
    "rows"
   ]
  },
  {
   "cell_type": "code",
   "execution_count": 74,
   "metadata": {},
   "outputs": [
    {
     "data": {
      "text/html": [
       "<div>\n",
       "<style scoped>\n",
       "    .dataframe tbody tr th:only-of-type {\n",
       "        vertical-align: middle;\n",
       "    }\n",
       "\n",
       "    .dataframe tbody tr th {\n",
       "        vertical-align: top;\n",
       "    }\n",
       "\n",
       "    .dataframe thead th {\n",
       "        text-align: right;\n",
       "    }\n",
       "</style>\n",
       "<table border=\"1\" class=\"dataframe\">\n",
       "  <thead>\n",
       "    <tr style=\"text-align: right;\">\n",
       "      <th></th>\n",
       "      <th>wage</th>\n",
       "      <th>educ</th>\n",
       "      <th>exper</th>\n",
       "      <th>gender</th>\n",
       "      <th>married</th>\n",
       "    </tr>\n",
       "  </thead>\n",
       "  <tbody>\n",
       "    <tr>\n",
       "      <th>John</th>\n",
       "      <td>3.00</td>\n",
       "      <td>11.0</td>\n",
       "      <td>2.0</td>\n",
       "      <td>Male</td>\n",
       "      <td>False</td>\n",
       "    </tr>\n",
       "    <tr>\n",
       "      <th>David</th>\n",
       "      <td>6.00</td>\n",
       "      <td>8.0</td>\n",
       "      <td>44.0</td>\n",
       "      <td>Male</td>\n",
       "      <td>True</td>\n",
       "    </tr>\n",
       "    <tr>\n",
       "      <th>Frank</th>\n",
       "      <td>5.30</td>\n",
       "      <td>12.0</td>\n",
       "      <td>7.0</td>\n",
       "      <td>Male</td>\n",
       "      <td>True</td>\n",
       "    </tr>\n",
       "    <tr>\n",
       "      <th>Ben</th>\n",
       "      <td>8.75</td>\n",
       "      <td>16.0</td>\n",
       "      <td>9.0</td>\n",
       "      <td>Male</td>\n",
       "      <td>True</td>\n",
       "    </tr>\n",
       "  </tbody>\n",
       "</table>\n",
       "</div>"
      ],
      "text/plain": [
       "       wage  educ  exper gender  married\n",
       "John   3.00  11.0    2.0   Male    False\n",
       "David  6.00   8.0   44.0   Male     True\n",
       "Frank  5.30  12.0    7.0   Male     True\n",
       "Ben    8.75  16.0    9.0   Male     True"
      ]
     },
     "execution_count": 74,
     "metadata": {},
     "output_type": "execute_result"
    }
   ],
   "source": [
    "# page 202\n",
    "rows = data_frame_new.loc['John':'Ben']\n",
    "rows"
   ]
  },
  {
   "cell_type": "code",
   "execution_count": 75,
   "metadata": {},
   "outputs": [
    {
     "data": {
      "text/html": [
       "<div>\n",
       "<style scoped>\n",
       "    .dataframe tbody tr th:only-of-type {\n",
       "        vertical-align: middle;\n",
       "    }\n",
       "\n",
       "    .dataframe tbody tr th {\n",
       "        vertical-align: top;\n",
       "    }\n",
       "\n",
       "    .dataframe thead th {\n",
       "        text-align: right;\n",
       "    }\n",
       "</style>\n",
       "<table border=\"1\" class=\"dataframe\">\n",
       "  <thead>\n",
       "    <tr style=\"text-align: right;\">\n",
       "      <th></th>\n",
       "      <th>wage</th>\n",
       "      <th>educ</th>\n",
       "      <th>exper</th>\n",
       "      <th>gender</th>\n",
       "      <th>married</th>\n",
       "    </tr>\n",
       "  </thead>\n",
       "  <tbody>\n",
       "    <tr>\n",
       "      <th>Ben</th>\n",
       "      <td>8.75</td>\n",
       "      <td>16.0</td>\n",
       "      <td>9.0</td>\n",
       "      <td>Male</td>\n",
       "      <td>True</td>\n",
       "    </tr>\n",
       "    <tr>\n",
       "      <th>Frank</th>\n",
       "      <td>5.30</td>\n",
       "      <td>12.0</td>\n",
       "      <td>7.0</td>\n",
       "      <td>Male</td>\n",
       "      <td>True</td>\n",
       "    </tr>\n",
       "  </tbody>\n",
       "</table>\n",
       "</div>"
      ],
      "text/plain": [
       "       wage  educ  exper gender  married\n",
       "Ben    8.75  16.0    9.0   Male     True\n",
       "Frank  5.30  12.0    7.0   Male     True"
      ]
     },
     "execution_count": 75,
     "metadata": {},
     "output_type": "execute_result"
    }
   ],
   "source": [
    "# page 203\n",
    "data_frame_new.loc[['Ben','Frank']]"
   ]
  },
  {
   "cell_type": "code",
   "execution_count": 76,
   "metadata": {},
   "outputs": [
    {
     "data": {
      "text/plain": [
       "0     2.0\n",
       "1    22.0\n",
       "2     2.0\n",
       "3    44.0\n",
       "4     7.0\n",
       "5     9.0\n",
       "Name: exper, dtype: float64"
      ]
     },
     "execution_count": 76,
     "metadata": {},
     "output_type": "execute_result"
    }
   ],
   "source": [
    "# page 204\n",
    "data_frame.iloc[:, 2]"
   ]
  },
  {
   "cell_type": "code",
   "execution_count": 77,
   "metadata": {},
   "outputs": [
    {
     "data": {
      "text/html": [
       "<div>\n",
       "<style scoped>\n",
       "    .dataframe tbody tr th:only-of-type {\n",
       "        vertical-align: middle;\n",
       "    }\n",
       "\n",
       "    .dataframe tbody tr th {\n",
       "        vertical-align: top;\n",
       "    }\n",
       "\n",
       "    .dataframe thead th {\n",
       "        text-align: right;\n",
       "    }\n",
       "</style>\n",
       "<table border=\"1\" class=\"dataframe\">\n",
       "  <thead>\n",
       "    <tr style=\"text-align: right;\">\n",
       "      <th></th>\n",
       "      <th>exper</th>\n",
       "    </tr>\n",
       "  </thead>\n",
       "  <tbody>\n",
       "    <tr>\n",
       "      <th>0</th>\n",
       "      <td>2.0</td>\n",
       "    </tr>\n",
       "    <tr>\n",
       "      <th>1</th>\n",
       "      <td>22.0</td>\n",
       "    </tr>\n",
       "    <tr>\n",
       "      <th>2</th>\n",
       "      <td>2.0</td>\n",
       "    </tr>\n",
       "    <tr>\n",
       "      <th>3</th>\n",
       "      <td>44.0</td>\n",
       "    </tr>\n",
       "    <tr>\n",
       "      <th>4</th>\n",
       "      <td>7.0</td>\n",
       "    </tr>\n",
       "    <tr>\n",
       "      <th>5</th>\n",
       "      <td>9.0</td>\n",
       "    </tr>\n",
       "  </tbody>\n",
       "</table>\n",
       "</div>"
      ],
      "text/plain": [
       "   exper\n",
       "0    2.0\n",
       "1   22.0\n",
       "2    2.0\n",
       "3   44.0\n",
       "4    7.0\n",
       "5    9.0"
      ]
     },
     "execution_count": 77,
     "metadata": {},
     "output_type": "execute_result"
    }
   ],
   "source": [
    "# page 205\n",
    "data_frame.iloc[:, 2:3]"
   ]
  },
  {
   "cell_type": "code",
   "execution_count": 78,
   "metadata": {},
   "outputs": [],
   "source": [
    "# page 205 - 209\n",
    "# student to tryout updating of the dataframe\n",
    "\n"
   ]
  },
  {
   "cell_type": "code",
   "execution_count": 79,
   "metadata": {},
   "outputs": [
    {
     "data": {
      "text/plain": [
       "0     True\n",
       "1     True\n",
       "2    False\n",
       "3    False\n",
       "4    False\n",
       "5    False\n",
       "Name: gender, dtype: bool"
      ]
     },
     "execution_count": 79,
     "metadata": {},
     "output_type": "execute_result"
    }
   ],
   "source": [
    "## page 210 - 211\n",
    "# boolean indexing\n",
    "\n",
    "is_female = (data_frame['gender'] == 'Female')\n",
    "is_female"
   ]
  },
  {
   "cell_type": "code",
   "execution_count": 80,
   "metadata": {},
   "outputs": [
    {
     "data": {
      "text/plain": [
       "True"
      ]
     },
     "execution_count": 80,
     "metadata": {},
     "output_type": "execute_result"
    }
   ],
   "source": [
    "(\"Female\" == \"Female\")\n",
    "#(True == True)"
   ]
  },
  {
   "cell_type": "code",
   "execution_count": 81,
   "metadata": {},
   "outputs": [
    {
     "data": {
      "text/plain": [
       "0    False\n",
       "1    False\n",
       "2    False\n",
       "3     True\n",
       "4     True\n",
       "5     True\n",
       "Name: wage, dtype: bool"
      ]
     },
     "execution_count": 81,
     "metadata": {},
     "output_type": "execute_result"
    }
   ],
   "source": [
    "## page 213\n",
    "## boolean indexing\n",
    "\n",
    "is_high_wage = data_frame[\"wage\"] > 4\n",
    "is_high_wage"
   ]
  },
  {
   "cell_type": "code",
   "execution_count": 82,
   "metadata": {},
   "outputs": [
    {
     "data": {
      "text/plain": [
       "0    False\n",
       "1     True\n",
       "2    False\n",
       "3    False\n",
       "4    False\n",
       "5    False\n",
       "dtype: bool"
      ]
     },
     "execution_count": 82,
     "metadata": {},
     "output_type": "execute_result"
    }
   ],
   "source": [
    "## page 214\n",
    "## boolean indexing\n",
    "\n",
    "is_wife = (data_frame['gender']=='Female') & (data_frame['married'])\n",
    "is_wife"
   ]
  },
  {
   "cell_type": "code",
   "execution_count": 83,
   "metadata": {},
   "outputs": [
    {
     "data": {
      "text/html": [
       "<div>\n",
       "<style scoped>\n",
       "    .dataframe tbody tr th:only-of-type {\n",
       "        vertical-align: middle;\n",
       "    }\n",
       "\n",
       "    .dataframe tbody tr th {\n",
       "        vertical-align: top;\n",
       "    }\n",
       "\n",
       "    .dataframe thead th {\n",
       "        text-align: right;\n",
       "    }\n",
       "</style>\n",
       "<table border=\"1\" class=\"dataframe\">\n",
       "  <thead>\n",
       "    <tr style=\"text-align: right;\">\n",
       "      <th></th>\n",
       "      <th>wage</th>\n",
       "      <th>educ</th>\n",
       "      <th>exper</th>\n",
       "      <th>gender</th>\n",
       "      <th>married</th>\n",
       "    </tr>\n",
       "  </thead>\n",
       "  <tbody>\n",
       "    <tr>\n",
       "      <th>0</th>\n",
       "      <td>3.10</td>\n",
       "      <td>11.0</td>\n",
       "      <td>2.0</td>\n",
       "      <td>Female</td>\n",
       "      <td>False</td>\n",
       "    </tr>\n",
       "    <tr>\n",
       "      <th>1</th>\n",
       "      <td>3.24</td>\n",
       "      <td>12.0</td>\n",
       "      <td>22.0</td>\n",
       "      <td>Female</td>\n",
       "      <td>True</td>\n",
       "    </tr>\n",
       "  </tbody>\n",
       "</table>\n",
       "</div>"
      ],
      "text/plain": [
       "   wage  educ  exper  gender  married\n",
       "0  3.10  11.0    2.0  Female    False\n",
       "1  3.24  12.0   22.0  Female     True"
      ]
     },
     "execution_count": 83,
     "metadata": {},
     "output_type": "execute_result"
    }
   ],
   "source": [
    "# page 215 - 216\n",
    "## boolean indexing\n",
    "is_female = data_frame['gender'] == 'Female'\n",
    "female = data_frame.loc[is_female]\n",
    "female"
   ]
  },
  {
   "cell_type": "code",
   "execution_count": 84,
   "metadata": {},
   "outputs": [
    {
     "data": {
      "text/html": [
       "<div>\n",
       "<style scoped>\n",
       "    .dataframe tbody tr th:only-of-type {\n",
       "        vertical-align: middle;\n",
       "    }\n",
       "\n",
       "    .dataframe tbody tr th {\n",
       "        vertical-align: top;\n",
       "    }\n",
       "\n",
       "    .dataframe thead th {\n",
       "        text-align: right;\n",
       "    }\n",
       "</style>\n",
       "<table border=\"1\" class=\"dataframe\">\n",
       "  <thead>\n",
       "    <tr style=\"text-align: right;\">\n",
       "      <th></th>\n",
       "      <th>wage</th>\n",
       "      <th>educ</th>\n",
       "      <th>exper</th>\n",
       "      <th>gender</th>\n",
       "      <th>married</th>\n",
       "      <th>remarks</th>\n",
       "    </tr>\n",
       "  </thead>\n",
       "  <tbody>\n",
       "    <tr>\n",
       "      <th>Mary</th>\n",
       "      <td>3.10</td>\n",
       "      <td>11.0</td>\n",
       "      <td>2.0</td>\n",
       "      <td>Female</td>\n",
       "      <td>False</td>\n",
       "      <td>NaN</td>\n",
       "    </tr>\n",
       "    <tr>\n",
       "      <th>Ann</th>\n",
       "      <td>3.24</td>\n",
       "      <td>12.0</td>\n",
       "      <td>22.0</td>\n",
       "      <td>Female</td>\n",
       "      <td>True</td>\n",
       "      <td>Wife</td>\n",
       "    </tr>\n",
       "    <tr>\n",
       "      <th>John</th>\n",
       "      <td>3.00</td>\n",
       "      <td>11.0</td>\n",
       "      <td>2.0</td>\n",
       "      <td>Male</td>\n",
       "      <td>False</td>\n",
       "      <td>NaN</td>\n",
       "    </tr>\n",
       "    <tr>\n",
       "      <th>David</th>\n",
       "      <td>6.00</td>\n",
       "      <td>8.0</td>\n",
       "      <td>44.0</td>\n",
       "      <td>Male</td>\n",
       "      <td>True</td>\n",
       "      <td>NaN</td>\n",
       "    </tr>\n",
       "    <tr>\n",
       "      <th>Frank</th>\n",
       "      <td>5.30</td>\n",
       "      <td>12.0</td>\n",
       "      <td>7.0</td>\n",
       "      <td>Male</td>\n",
       "      <td>True</td>\n",
       "      <td>NaN</td>\n",
       "    </tr>\n",
       "    <tr>\n",
       "      <th>Ben</th>\n",
       "      <td>8.75</td>\n",
       "      <td>16.0</td>\n",
       "      <td>9.0</td>\n",
       "      <td>Male</td>\n",
       "      <td>True</td>\n",
       "      <td>NaN</td>\n",
       "    </tr>\n",
       "  </tbody>\n",
       "</table>\n",
       "</div>"
      ],
      "text/plain": [
       "       wage  educ  exper  gender  married remarks\n",
       "Mary   3.10  11.0    2.0  Female    False     NaN\n",
       "Ann    3.24  12.0   22.0  Female     True    Wife\n",
       "John   3.00  11.0    2.0    Male    False     NaN\n",
       "David  6.00   8.0   44.0    Male     True     NaN\n",
       "Frank  5.30  12.0    7.0    Male     True     NaN\n",
       "Ben    8.75  16.0    9.0    Male     True     NaN"
      ]
     },
     "execution_count": 84,
     "metadata": {},
     "output_type": "execute_result"
    }
   ],
   "source": [
    "is_wife = (data_frame_new['gender']=='Female') & (data_frame_new['married'])\n",
    "data_frame_new.loc[is_wife,'remarks'] = 'Wife'\n",
    "data_frame_new"
   ]
  },
  {
   "cell_type": "code",
   "execution_count": 85,
   "metadata": {},
   "outputs": [
    {
     "data": {
      "text/html": [
       "<div>\n",
       "<style scoped>\n",
       "    .dataframe tbody tr th:only-of-type {\n",
       "        vertical-align: middle;\n",
       "    }\n",
       "\n",
       "    .dataframe tbody tr th {\n",
       "        vertical-align: top;\n",
       "    }\n",
       "\n",
       "    .dataframe thead th {\n",
       "        text-align: right;\n",
       "    }\n",
       "</style>\n",
       "<table border=\"1\" class=\"dataframe\">\n",
       "  <thead>\n",
       "    <tr style=\"text-align: right;\">\n",
       "      <th></th>\n",
       "      <th>wage</th>\n",
       "      <th>educ</th>\n",
       "      <th>exper</th>\n",
       "      <th>gender</th>\n",
       "      <th>married</th>\n",
       "    </tr>\n",
       "  </thead>\n",
       "  <tbody>\n",
       "    <tr>\n",
       "      <th>Mary</th>\n",
       "      <td>3.10</td>\n",
       "      <td>11.0</td>\n",
       "      <td>2.0</td>\n",
       "      <td>Female</td>\n",
       "      <td>False</td>\n",
       "    </tr>\n",
       "    <tr>\n",
       "      <th>Ann</th>\n",
       "      <td>3.24</td>\n",
       "      <td>12.0</td>\n",
       "      <td>22.0</td>\n",
       "      <td>Female</td>\n",
       "      <td>True</td>\n",
       "    </tr>\n",
       "    <tr>\n",
       "      <th>John</th>\n",
       "      <td>3.00</td>\n",
       "      <td>11.0</td>\n",
       "      <td>2.0</td>\n",
       "      <td>Male</td>\n",
       "      <td>False</td>\n",
       "    </tr>\n",
       "    <tr>\n",
       "      <th>David</th>\n",
       "      <td>6.00</td>\n",
       "      <td>8.0</td>\n",
       "      <td>44.0</td>\n",
       "      <td>Male</td>\n",
       "      <td>True</td>\n",
       "    </tr>\n",
       "    <tr>\n",
       "      <th>Frank</th>\n",
       "      <td>5.30</td>\n",
       "      <td>12.0</td>\n",
       "      <td>7.0</td>\n",
       "      <td>Male</td>\n",
       "      <td>True</td>\n",
       "    </tr>\n",
       "    <tr>\n",
       "      <th>Ben</th>\n",
       "      <td>8.75</td>\n",
       "      <td>16.0</td>\n",
       "      <td>9.0</td>\n",
       "      <td>Male</td>\n",
       "      <td>True</td>\n",
       "    </tr>\n",
       "  </tbody>\n",
       "</table>\n",
       "</div>"
      ],
      "text/plain": [
       "       wage  educ  exper  gender  married\n",
       "Mary   3.10  11.0    2.0  Female    False\n",
       "Ann    3.24  12.0   22.0  Female     True\n",
       "John   3.00  11.0    2.0    Male    False\n",
       "David  6.00   8.0   44.0    Male     True\n",
       "Frank  5.30  12.0    7.0    Male     True\n",
       "Ben    8.75  16.0    9.0    Male     True"
      ]
     },
     "execution_count": 85,
     "metadata": {},
     "output_type": "execute_result"
    }
   ],
   "source": [
    "#small exercise\n",
    "# find all the husbands\n",
    "# remarks, \"husband\"\n",
    "index = ['Mary','Ann','John','David','Frank','Ben']\n",
    "data_frame_new = pd.DataFrame(data_dict, index=index)\n",
    "data_frame_new"
   ]
  },
  {
   "cell_type": "code",
   "execution_count": 86,
   "metadata": {},
   "outputs": [
    {
     "data": {
      "text/html": [
       "<div>\n",
       "<style scoped>\n",
       "    .dataframe tbody tr th:only-of-type {\n",
       "        vertical-align: middle;\n",
       "    }\n",
       "\n",
       "    .dataframe tbody tr th {\n",
       "        vertical-align: top;\n",
       "    }\n",
       "\n",
       "    .dataframe thead th {\n",
       "        text-align: right;\n",
       "    }\n",
       "</style>\n",
       "<table border=\"1\" class=\"dataframe\">\n",
       "  <thead>\n",
       "    <tr style=\"text-align: right;\">\n",
       "      <th></th>\n",
       "      <th>wage</th>\n",
       "      <th>educ</th>\n",
       "      <th>exper</th>\n",
       "      <th>gender</th>\n",
       "      <th>married</th>\n",
       "      <th>remarks</th>\n",
       "    </tr>\n",
       "  </thead>\n",
       "  <tbody>\n",
       "    <tr>\n",
       "      <th>Mary</th>\n",
       "      <td>3.10</td>\n",
       "      <td>11.0</td>\n",
       "      <td>2.0</td>\n",
       "      <td>Female</td>\n",
       "      <td>False</td>\n",
       "      <td>NaN</td>\n",
       "    </tr>\n",
       "    <tr>\n",
       "      <th>Ann</th>\n",
       "      <td>3.24</td>\n",
       "      <td>12.0</td>\n",
       "      <td>22.0</td>\n",
       "      <td>Female</td>\n",
       "      <td>True</td>\n",
       "      <td>NaN</td>\n",
       "    </tr>\n",
       "    <tr>\n",
       "      <th>John</th>\n",
       "      <td>3.00</td>\n",
       "      <td>11.0</td>\n",
       "      <td>2.0</td>\n",
       "      <td>Male</td>\n",
       "      <td>False</td>\n",
       "      <td>NaN</td>\n",
       "    </tr>\n",
       "    <tr>\n",
       "      <th>David</th>\n",
       "      <td>6.00</td>\n",
       "      <td>8.0</td>\n",
       "      <td>44.0</td>\n",
       "      <td>Male</td>\n",
       "      <td>True</td>\n",
       "      <td>Husband</td>\n",
       "    </tr>\n",
       "    <tr>\n",
       "      <th>Frank</th>\n",
       "      <td>5.30</td>\n",
       "      <td>12.0</td>\n",
       "      <td>7.0</td>\n",
       "      <td>Male</td>\n",
       "      <td>True</td>\n",
       "      <td>Husband</td>\n",
       "    </tr>\n",
       "    <tr>\n",
       "      <th>Ben</th>\n",
       "      <td>8.75</td>\n",
       "      <td>16.0</td>\n",
       "      <td>9.0</td>\n",
       "      <td>Male</td>\n",
       "      <td>True</td>\n",
       "      <td>Husband</td>\n",
       "    </tr>\n",
       "  </tbody>\n",
       "</table>\n",
       "</div>"
      ],
      "text/plain": [
       "       wage  educ  exper  gender  married  remarks\n",
       "Mary   3.10  11.0    2.0  Female    False      NaN\n",
       "Ann    3.24  12.0   22.0  Female     True      NaN\n",
       "John   3.00  11.0    2.0    Male    False      NaN\n",
       "David  6.00   8.0   44.0    Male     True  Husband\n",
       "Frank  5.30  12.0    7.0    Male     True  Husband\n",
       "Ben    8.75  16.0    9.0    Male     True  Husband"
      ]
     },
     "execution_count": 86,
     "metadata": {},
     "output_type": "execute_result"
    }
   ],
   "source": [
    "is_husband = (data_frame_new['gender']=='Male') & (data_frame_new['married'])\n",
    "data_frame_new.loc[is_husband,'remarks'] = 'Husband'\n",
    "data_frame_new"
   ]
  },
  {
   "cell_type": "code",
   "execution_count": 87,
   "metadata": {},
   "outputs": [
    {
     "data": {
      "text/plain": [
       "float"
      ]
     },
     "execution_count": 87,
     "metadata": {},
     "output_type": "execute_result"
    }
   ],
   "source": [
    "single = (data_frame_new['married'] == False)\n",
    "data_frame_new.loc[single,\"remarks\"] = \"single\"\n",
    "my_variable =  data_frame_new.loc[\"Ann\",\"remarks\"]\n",
    "type(my_variable)"
   ]
  },
  {
   "cell_type": "markdown",
   "metadata": {},
   "source": [
    "## descriptive Analytics"
   ]
  },
  {
   "cell_type": "code",
   "execution_count": 88,
   "metadata": {},
   "outputs": [
    {
     "data": {
      "text/html": [
       "<div>\n",
       "<style scoped>\n",
       "    .dataframe tbody tr th:only-of-type {\n",
       "        vertical-align: middle;\n",
       "    }\n",
       "\n",
       "    .dataframe tbody tr th {\n",
       "        vertical-align: top;\n",
       "    }\n",
       "\n",
       "    .dataframe thead th {\n",
       "        text-align: right;\n",
       "    }\n",
       "</style>\n",
       "<table border=\"1\" class=\"dataframe\">\n",
       "  <thead>\n",
       "    <tr style=\"text-align: right;\">\n",
       "      <th></th>\n",
       "      <th>wage</th>\n",
       "      <th>educ</th>\n",
       "      <th>exper</th>\n",
       "      <th>gender</th>\n",
       "      <th>married</th>\n",
       "    </tr>\n",
       "  </thead>\n",
       "  <tbody>\n",
       "    <tr>\n",
       "      <th>0</th>\n",
       "      <td>3.10</td>\n",
       "      <td>11</td>\n",
       "      <td>2</td>\n",
       "      <td>Female</td>\n",
       "      <td>False</td>\n",
       "    </tr>\n",
       "    <tr>\n",
       "      <th>1</th>\n",
       "      <td>3.24</td>\n",
       "      <td>12</td>\n",
       "      <td>22</td>\n",
       "      <td>Female</td>\n",
       "      <td>True</td>\n",
       "    </tr>\n",
       "    <tr>\n",
       "      <th>2</th>\n",
       "      <td>3.00</td>\n",
       "      <td>11</td>\n",
       "      <td>2</td>\n",
       "      <td>Male</td>\n",
       "      <td>False</td>\n",
       "    </tr>\n",
       "    <tr>\n",
       "      <th>3</th>\n",
       "      <td>6.00</td>\n",
       "      <td>8</td>\n",
       "      <td>44</td>\n",
       "      <td>Male</td>\n",
       "      <td>True</td>\n",
       "    </tr>\n",
       "    <tr>\n",
       "      <th>4</th>\n",
       "      <td>5.30</td>\n",
       "      <td>12</td>\n",
       "      <td>7</td>\n",
       "      <td>Male</td>\n",
       "      <td>True</td>\n",
       "    </tr>\n",
       "    <tr>\n",
       "      <th>5</th>\n",
       "      <td>8.75</td>\n",
       "      <td>16</td>\n",
       "      <td>9</td>\n",
       "      <td>Male</td>\n",
       "      <td>True</td>\n",
       "    </tr>\n",
       "  </tbody>\n",
       "</table>\n",
       "</div>"
      ],
      "text/plain": [
       "   wage  educ  exper  gender  married\n",
       "0  3.10    11      2  Female    False\n",
       "1  3.24    12     22  Female     True\n",
       "2  3.00    11      2    Male    False\n",
       "3  6.00     8     44    Male     True\n",
       "4  5.30    12      7    Male     True\n",
       "5  8.75    16      9    Male     True"
      ]
     },
     "execution_count": 88,
     "metadata": {},
     "output_type": "execute_result"
    }
   ],
   "source": [
    "data = pd.read_csv('wage.csv')\n",
    "data.head(6)"
   ]
  },
  {
   "cell_type": "code",
   "execution_count": 91,
   "metadata": {},
   "outputs": [
    {
     "name": "stdout",
     "output_type": "stream",
     "text": [
      "wage        5.896103\n",
      "educ       12.562738\n",
      "exper      17.017110\n",
      "married     0.608365\n",
      "dtype: float64 \n",
      "\n",
      "<class 'pandas.core.series.Series'>\n"
     ]
    },
    {
     "name": "stderr",
     "output_type": "stream",
     "text": [
      "C:\\Users\\YANGJI~1\\AppData\\Local\\Temp/ipykernel_25568/1482933816.py:2: FutureWarning: Dropping of nuisance columns in DataFrame reductions (with 'numeric_only=None') is deprecated; in a future version this will raise TypeError.  Select only valid columns before calling the reduction.\n",
      "  print(data.mean(), '\\n')\n",
      "C:\\Users\\YANGJI~1\\AppData\\Local\\Temp/ipykernel_25568/1482933816.py:3: FutureWarning: Dropping of nuisance columns in DataFrame reductions (with 'numeric_only=None') is deprecated; in a future version this will raise TypeError.  Select only valid columns before calling the reduction.\n",
      "  print(type(data.mean()))\n"
     ]
    }
   ],
   "source": [
    "## page 225 - 227\n",
    "print(data.mean(), '\\n')\n",
    "print(type(data.mean()))"
   ]
  },
  {
   "cell_type": "code",
   "execution_count": 92,
   "metadata": {},
   "outputs": [
    {
     "name": "stderr",
     "output_type": "stream",
     "text": [
      "C:\\Users\\YANGJI~1\\AppData\\Local\\Temp/ipykernel_25568/4032494956.py:3: FutureWarning: Dropping of nuisance columns in DataFrame reductions (with 'numeric_only=None') is deprecated; in a future version this will raise TypeError.  Select only valid columns before calling the reduction.\n",
      "  data.std() # standard deviation\n",
      "C:\\Users\\YANGJI~1\\AppData\\Local\\Temp/ipykernel_25568/4032494956.py:4: FutureWarning: Dropping of nuisance columns in DataFrame reductions (with 'numeric_only=None') is deprecated; in a future version this will raise TypeError.  Select only valid columns before calling the reduction.\n",
      "  data.var() # variance\n"
     ]
    },
    {
     "data": {
      "text/plain": [
       "wage         0.53\n",
       "educ            0\n",
       "exper           1\n",
       "gender     Female\n",
       "married     False\n",
       "dtype: object"
      ]
     },
     "execution_count": 92,
     "metadata": {},
     "output_type": "execute_result"
    }
   ],
   "source": [
    "# page 228 - 230\n",
    "\n",
    "data.std() # standard deviation\n",
    "data.var() # variance\n",
    "data.max() # max value of each column\n",
    "data.min() # min value of each column"
   ]
  },
  {
   "cell_type": "code",
   "execution_count": 93,
   "metadata": {},
   "outputs": [
    {
     "data": {
      "text/plain": [
       "Male      274\n",
       "Female    252\n",
       "Name: gender, dtype: int64"
      ]
     },
     "execution_count": 93,
     "metadata": {},
     "output_type": "execute_result"
    }
   ],
   "source": [
    "# page 231\n",
    "\n",
    "data['gender'].value_counts()"
   ]
  },
  {
   "cell_type": "code",
   "execution_count": 94,
   "metadata": {},
   "outputs": [
    {
     "data": {
      "text/plain": [
       "Male      0.520913\n",
       "Female    0.479087\n",
       "Name: gender, dtype: float64"
      ]
     },
     "execution_count": 94,
     "metadata": {},
     "output_type": "execute_result"
    }
   ],
   "source": [
    "data['gender'].value_counts(normalize=True)"
   ]
  },
  {
   "cell_type": "code",
   "execution_count": 95,
   "metadata": {},
   "outputs": [
    {
     "data": {
      "text/html": [
       "<div>\n",
       "<style scoped>\n",
       "    .dataframe tbody tr th:only-of-type {\n",
       "        vertical-align: middle;\n",
       "    }\n",
       "\n",
       "    .dataframe tbody tr th {\n",
       "        vertical-align: top;\n",
       "    }\n",
       "\n",
       "    .dataframe thead th {\n",
       "        text-align: right;\n",
       "    }\n",
       "</style>\n",
       "<table border=\"1\" class=\"dataframe\">\n",
       "  <thead>\n",
       "    <tr style=\"text-align: right;\">\n",
       "      <th></th>\n",
       "      <th>wage</th>\n",
       "      <th>educ</th>\n",
       "      <th>exper</th>\n",
       "    </tr>\n",
       "  </thead>\n",
       "  <tbody>\n",
       "    <tr>\n",
       "      <th>count</th>\n",
       "      <td>526.000000</td>\n",
       "      <td>526.000000</td>\n",
       "      <td>526.00000</td>\n",
       "    </tr>\n",
       "    <tr>\n",
       "      <th>mean</th>\n",
       "      <td>5.896103</td>\n",
       "      <td>12.562738</td>\n",
       "      <td>17.01711</td>\n",
       "    </tr>\n",
       "    <tr>\n",
       "      <th>std</th>\n",
       "      <td>3.693086</td>\n",
       "      <td>2.769022</td>\n",
       "      <td>13.57216</td>\n",
       "    </tr>\n",
       "    <tr>\n",
       "      <th>min</th>\n",
       "      <td>0.530000</td>\n",
       "      <td>0.000000</td>\n",
       "      <td>1.00000</td>\n",
       "    </tr>\n",
       "    <tr>\n",
       "      <th>25%</th>\n",
       "      <td>3.330000</td>\n",
       "      <td>12.000000</td>\n",
       "      <td>5.00000</td>\n",
       "    </tr>\n",
       "    <tr>\n",
       "      <th>50%</th>\n",
       "      <td>4.650000</td>\n",
       "      <td>12.000000</td>\n",
       "      <td>13.50000</td>\n",
       "    </tr>\n",
       "    <tr>\n",
       "      <th>75%</th>\n",
       "      <td>6.880000</td>\n",
       "      <td>14.000000</td>\n",
       "      <td>26.00000</td>\n",
       "    </tr>\n",
       "    <tr>\n",
       "      <th>max</th>\n",
       "      <td>24.980000</td>\n",
       "      <td>18.000000</td>\n",
       "      <td>51.00000</td>\n",
       "    </tr>\n",
       "  </tbody>\n",
       "</table>\n",
       "</div>"
      ],
      "text/plain": [
       "             wage        educ      exper\n",
       "count  526.000000  526.000000  526.00000\n",
       "mean     5.896103   12.562738   17.01711\n",
       "std      3.693086    2.769022   13.57216\n",
       "min      0.530000    0.000000    1.00000\n",
       "25%      3.330000   12.000000    5.00000\n",
       "50%      4.650000   12.000000   13.50000\n",
       "75%      6.880000   14.000000   26.00000\n",
       "max     24.980000   18.000000   51.00000"
      ]
     },
     "execution_count": 95,
     "metadata": {},
     "output_type": "execute_result"
    }
   ],
   "source": [
    "# page 232 - 233\n",
    "# describe\n",
    "\n",
    "wage_summary = data.describe()\n",
    "wage_summary"
   ]
  },
  {
   "cell_type": "code",
   "execution_count": 96,
   "metadata": {},
   "outputs": [
    {
     "data": {
      "image/png": "[encoded data removed]",
      "text/plain": [
       "<Figure size 432x288 with 1 Axes>"
      ]
     },
     "metadata": {
      "needs_background": "light"
     },
     "output_type": "display_data"
    }
   ],
   "source": [
    "# page 238\n",
    "# matplotlib + box plot\n",
    "plt.boxplot(data['wage'],\n",
    "           vert=False)\n",
    "\n",
    "plt.xlabel('Horly wages ($)',\n",
    "          fontsize=14)\n",
    "plt.show()"
   ]
  },
  {
   "cell_type": "code",
   "execution_count": 97,
   "metadata": {},
   "outputs": [
    {
     "data": {
      "image/png": "[encoded data removed]",
      "text/plain": [
       "<Figure size 432x288 with 1 Axes>"
      ]
     },
     "metadata": {
      "needs_background": "light"
     },
     "output_type": "display_data"
    }
   ],
   "source": [
    "## page 239\n",
    "plt.hist(data['wage'], 20,\n",
    "        color='b', alpha=0.3)\n",
    "\n",
    "plt.xlabel('Hourly Wages ($)', fontsize=14)\n",
    "plt.ylabel('Frequency', fontsize=14)\n",
    "\n",
    "plt.show()"
   ]
  },
  {
   "cell_type": "code",
   "execution_count": 98,
   "metadata": {},
   "outputs": [
    {
     "data": {
      "image/png": "[encoded data removed]",
      "text/plain": [
       "<Figure size 432x288 with 1 Axes>"
      ]
     },
     "metadata": {
      "needs_background": "light"
     },
     "output_type": "display_data"
    }
   ],
   "source": [
    "## page 240\n",
    "plt.scatter(data['educ'],\n",
    "            data['wage'],\n",
    "            c='b', alpha=0.3)\n",
    "\n",
    "plt.xlabel('Years of education', fontsize=14)\n",
    "plt.ylabel('Hourly eages ($)', fontsize=14)\n",
    "\n",
    "plt.show()"
   ]
  },
  {
   "cell_type": "code",
   "execution_count": 97,
   "metadata": {},
   "outputs": [
    {
     "data": {
      "text/html": [
       "<div>\n",
       "<style scoped>\n",
       "    .dataframe tbody tr th:only-of-type {\n",
       "        vertical-align: middle;\n",
       "    }\n",
       "\n",
       "    .dataframe tbody tr th {\n",
       "        vertical-align: top;\n",
       "    }\n",
       "\n",
       "    .dataframe thead th {\n",
       "        text-align: right;\n",
       "    }\n",
       "</style>\n",
       "<table border=\"1\" class=\"dataframe\">\n",
       "  <thead>\n",
       "    <tr style=\"text-align: right;\">\n",
       "      <th></th>\n",
       "      <th>wage</th>\n",
       "      <th>educ</th>\n",
       "      <th>exper</th>\n",
       "      <th>married</th>\n",
       "    </tr>\n",
       "  </thead>\n",
       "  <tbody>\n",
       "    <tr>\n",
       "      <th>wage</th>\n",
       "      <td>1.000000</td>\n",
       "      <td>0.405903</td>\n",
       "      <td>0.112903</td>\n",
       "      <td>0.228817</td>\n",
       "    </tr>\n",
       "    <tr>\n",
       "      <th>educ</th>\n",
       "      <td>0.405903</td>\n",
       "      <td>1.000000</td>\n",
       "      <td>-0.299542</td>\n",
       "      <td>0.068881</td>\n",
       "    </tr>\n",
       "    <tr>\n",
       "      <th>exper</th>\n",
       "      <td>0.112903</td>\n",
       "      <td>-0.299542</td>\n",
       "      <td>1.000000</td>\n",
       "      <td>0.316984</td>\n",
       "    </tr>\n",
       "    <tr>\n",
       "      <th>married</th>\n",
       "      <td>0.228817</td>\n",
       "      <td>0.068881</td>\n",
       "      <td>0.316984</td>\n",
       "      <td>1.000000</td>\n",
       "    </tr>\n",
       "  </tbody>\n",
       "</table>\n",
       "</div>"
      ],
      "text/plain": [
       "             wage      educ     exper   married\n",
       "wage     1.000000  0.405903  0.112903  0.228817\n",
       "educ     0.405903  1.000000 -0.299542  0.068881\n",
       "exper    0.112903 -0.299542  1.000000  0.316984\n",
       "married  0.228817  0.068881  0.316984  1.000000"
      ]
     },
     "execution_count": 97,
     "metadata": {},
     "output_type": "execute_result"
    }
   ],
   "source": [
    "# page 241\n",
    "# data co-relation\n",
    "data.corr()"
   ]
  },
  {
   "cell_type": "markdown",
   "metadata": {},
   "source": [
    "## stop at page 241"
   ]
  }
 ],
 "metadata": {
  "kernelspec": {
   "display_name": "Python 3 (ipykernel)",
   "language": "python",
   "name": "python3"
  },
  "language_info": {
   "codemirror_mode": {
    "name": "ipython",
    "version": 3
   },
   "file_extension": ".py",
   "mimetype": "text/x-python",
   "name": "python",
   "nbconvert_exporter": "python",
   "pygments_lexer": "ipython3",
   "version": "3.8.12"
  }
 },
 "nbformat": 4,
 "nbformat_minor": 4
}
