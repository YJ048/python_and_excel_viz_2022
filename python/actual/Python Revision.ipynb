{
 "cells": [
  {
   "cell_type": "markdown",
   "id": "d29d84bc",
   "metadata": {},
   "source": [
    "# Data Type"
   ]
  },
  {
   "cell_type": "code",
   "execution_count": 1,
   "id": "111a3e04",
   "metadata": {},
   "outputs": [
    {
     "name": "stdout",
     "output_type": "stream",
     "text": [
      "<class 'str'>\n"
     ]
    }
   ],
   "source": [
    "var_str = \"apple\" # str\n",
    "var_str_1 = 'apple' # str\n",
    "var_int = 3 # int\n",
    "var_float = 3.0 # float\n",
    "var_bool = True # boolean\n",
    "var_list = [] # list\n",
    "var_dict = {'key1':'value1'} # dictionary\n",
    "\n",
    "print(type(var_str))"
   ]
  },
  {
   "cell_type": "code",
   "execution_count": 2,
   "id": "aba385ef",
   "metadata": {},
   "outputs": [
    {
     "name": "stdout",
     "output_type": "stream",
     "text": [
      "2.0\n"
     ]
    }
   ],
   "source": [
    "# Assigning value in variables\n",
    "x = 10\n",
    "x = x / 5\n",
    "print(x)"
   ]
  },
  {
   "cell_type": "code",
   "execution_count": 3,
   "id": "7dbd3f3d",
   "metadata": {},
   "outputs": [
    {
     "name": "stdout",
     "output_type": "stream",
     "text": [
      "b\n",
      "abcde\n"
     ]
    }
   ],
   "source": [
    "var_str = 'abcdefg'\n",
    "print(var_str[1])\n",
    "print(var_str[:5])"
   ]
  },
  {
   "cell_type": "code",
   "execution_count": 6,
   "id": "389a6c3a",
   "metadata": {},
   "outputs": [
    {
     "data": {
      "text/plain": [
       "'Orange'"
      ]
     },
     "execution_count": 6,
     "metadata": {},
     "output_type": "execute_result"
    }
   ],
   "source": [
    "var_list = ['Apple',['Banana','Orange']]\n",
    "var_list[1][1]"
   ]
  },
  {
   "cell_type": "code",
   "execution_count": 8,
   "id": "9d1e201c",
   "metadata": {},
   "outputs": [
    {
     "name": "stdout",
     "output_type": "stream",
     "text": [
      "ABC*ABC\n"
     ]
    }
   ],
   "source": [
    "print(\"ABC\",end=\"*\") # default end = \\n\n",
    "print(\"ABC\")"
   ]
  },
  {
   "cell_type": "code",
   "execution_count": 9,
   "id": "ffb1a303",
   "metadata": {},
   "outputs": [
    {
     "data": {
      "text/plain": [
       "10"
      ]
     },
     "execution_count": 9,
     "metadata": {},
     "output_type": "execute_result"
    }
   ],
   "source": [
    "# Parameter : variable listed inside the parentheses in the function definition\n",
    "# Argument : value that is sent to the function when it is called\n",
    "\n",
    "# def = defining a function\n",
    "# func = name of the function\n",
    "# a = parameter the func takes in\n",
    "# return a*2 = output of the func\n",
    "# use function to make code more concise and readable\n",
    "def func(a):\n",
    "    return a*2\n",
    "\n",
    "func(5)"
   ]
  },
  {
   "cell_type": "code",
   "execution_count": 12,
   "id": "afeef9b0",
   "metadata": {},
   "outputs": [
    {
     "name": "stdout",
     "output_type": "stream",
     "text": [
      "Five\n"
     ]
    }
   ],
   "source": [
    "# If Decision\n",
    "a = 5\n",
    "\n",
    "if a <= 5:\n",
    "    print(\"Five\")\n",
    "elif a <= 10:\n",
    "    print(\"Ten\")\n",
    "else:\n",
    "    print(\"Others\")"
   ]
  },
  {
   "cell_type": "code",
   "execution_count": 13,
   "id": "ea217dc7",
   "metadata": {},
   "outputs": [
    {
     "name": "stdout",
     "output_type": "stream",
     "text": [
      "User input: 4\n",
      "0 times now\n",
      "1 times now\n",
      "2 times now\n",
      "3 times now\n"
     ]
    }
   ],
   "source": [
    "var_input = int(input(\"User input: \"))\n",
    "counter = 0\n",
    "\n",
    "# iterates while condition is true\n",
    "while counter < var_input:\n",
    "    print(str(counter) + \" times now\")\n",
    "    counter += 1"
   ]
  },
  {
   "cell_type": "code",
   "execution_count": 15,
   "id": "2c6a81a8",
   "metadata": {},
   "outputs": [
    {
     "name": "stdout",
     "output_type": "stream",
     "text": [
      "User input: 4\n",
      "0 times now\n",
      "1 times now\n",
      "2 times now\n",
      "3 times now\n"
     ]
    }
   ],
   "source": [
    "var_input = int(input(\"User input: \"))\n",
    "\n",
    "\n",
    "# iterates for a range\n",
    "for i in range(var_input):\n",
    "    print(str(i) + \" times now\")"
   ]
  },
  {
   "cell_type": "code",
   "execution_count": 16,
   "id": "4365cb63",
   "metadata": {},
   "outputs": [],
   "source": [
    "import numpy as np\n",
    "import matplotlib.pyplot as plt"
   ]
  },
  {
   "cell_type": "code",
   "execution_count": 20,
   "id": "2d5e99e0",
   "metadata": {},
   "outputs": [
    {
     "name": "stdout",
     "output_type": "stream",
     "text": [
      "<class 'numpy.ndarray'>\n",
      "Dimension Number:  1\n",
      "Array Shape:  (3,)\n",
      "Number Of data items:  3\n",
      "Data type of items:  int32\n"
     ]
    }
   ],
   "source": [
    "array_1d = np.array([1,2,3])\n",
    "\n",
    "print(type(array_1d))\n",
    "\n",
    "print('Dimension Number: ', array_1d.ndim)\n",
    "print('Array Shape: ', array_1d.shape)\n",
    "print('Number Of data items: ', array_1d.size)\n",
    "print('Data type of items: ', array_1d.dtype)"
   ]
  },
  {
   "cell_type": "code",
   "execution_count": 21,
   "id": "8a3c03da",
   "metadata": {},
   "outputs": [
    {
     "name": "stdout",
     "output_type": "stream",
     "text": [
      "<class 'numpy.ndarray'>\n",
      "Dimension Number:  2\n",
      "Array Shape:  (2, 3)\n",
      "Number Of data items:  6\n",
      "Data type of items:  int32\n"
     ]
    }
   ],
   "source": [
    "array_2d = np.array([[1,2,3],\n",
    "                     [4,5,6]])\n",
    "\n",
    "print(type(array_2d))\n",
    "\n",
    "print('Dimension Number: ', array_2d.ndim)\n",
    "print('Array Shape: ', array_2d.shape)\n",
    "print('Number Of data items: ', array_2d.size)\n",
    "print('Data type of items: ', array_2d.dtype)"
   ]
  },
  {
   "cell_type": "code",
   "execution_count": 22,
   "id": "740432bf",
   "metadata": {},
   "outputs": [
    {
     "data": {
      "text/plain": [
       "array([1. , 1.5, 2. , 2.5, 3. , 3.5, 4. , 4.5])"
      ]
     },
     "execution_count": 22,
     "metadata": {},
     "output_type": "execute_result"
    }
   ],
   "source": [
    "# np.arange(start, end, step) \n",
    "# end : not inclusive\n",
    "range_array = np.arange(1,5,0.5)\n",
    "range_array"
   ]
  },
  {
   "cell_type": "code",
   "execution_count": 26,
   "id": "31a07896",
   "metadata": {},
   "outputs": [
    {
     "name": "stdout",
     "output_type": "stream",
     "text": [
      "1\n",
      "[1 2]\n",
      "2\n",
      "[1 2 3]\n"
     ]
    }
   ],
   "source": [
    "# array_1d[start:stop]\n",
    "# array_2d[row_start:row_stop, column_start:column_stop]\n",
    "# array_2d[[row_index],[column_index]]\n",
    "print(array_1d[0])\n",
    "print(array_1d[:2])\n",
    "print(array_2d[0,1])\n",
    "print(array_2d[0,:])"
   ]
  },
  {
   "cell_type": "code",
   "execution_count": null,
   "id": "6cdaa5f0",
   "metadata": {},
   "outputs": [],
   "source": [
    "# plt.plot() - line plot\n",
    "# plt.scatter() - scatter plot\n",
    "# plt.bar() - bar plot"
   ]
  },
  {
   "cell_type": "code",
   "execution_count": 32,
   "id": "ec81b1fb",
   "metadata": {},
   "outputs": [
    {
     "data": {
      "image/png": "[encoded data removed]",
      "text/plain": [
       "<Figure size 720x504 with 1 Axes>"
      ]
     },
     "metadata": {
      "needs_background": "light"
     },
     "output_type": "display_data"
    }
   ],
   "source": [
    "## page 64 - 68\n",
    "## figure graph\n",
    "\n",
    "step = 1\n",
    "x = np.arange(0, 10+step, step)\n",
    "y = np.exp(x/2) \n",
    "\n",
    "plt.figure(figsize=(10, 7)) # size of the figure also\n",
    "plt.title('My Title', fontsize=30) #can add title\n",
    "plt.bar(x,y,\n",
    "       width=0.6,\n",
    "       color='b',\n",
    "       alpha=0.7)\n",
    "# width = width of bar\n",
    "# color = color of bar\n",
    "# alpha = transparency of the bar\n",
    "plt.xlabel('x-axis',fontsize=30) #change font size\n",
    "plt.ylabel('y-axis',fontsize=15) #change font size\n",
    "plt.show()"
   ]
  },
  {
   "cell_type": "code",
   "execution_count": 34,
   "id": "5bcad47f",
   "metadata": {},
   "outputs": [
    {
     "data": {
      "image/png": "[encoded data removed]",
      "text/plain": [
       "<Figure size 432x288 with 1 Axes>"
      ]
     },
     "metadata": {
      "needs_background": "light"
     },
     "output_type": "display_data"
    }
   ],
   "source": [
    "# plt.plot([0,0,1,1,0],[0,1,1,0,0]) Start from (0,0) and clockwise\n",
    "plt.plot([0,1,1,0],[0,0,1,0]) # Start from (0,0) and anti-clockwise\n",
    "plt.show()"
   ]
  }
 ],
 "metadata": {
  "kernelspec": {
   "display_name": "Python 3 (ipykernel)",
   "language": "python",
   "name": "python3"
  },
  "language_info": {
   "codemirror_mode": {
    "name": "ipython",
    "version": 3
   },
   "file_extension": ".py",
   "mimetype": "text/x-python",
   "name": "python",
   "nbconvert_exporter": "python",
   "pygments_lexer": "ipython3",
   "version": "3.8.12"
  }
 },
 "nbformat": 4,
 "nbformat_minor": 5
}
