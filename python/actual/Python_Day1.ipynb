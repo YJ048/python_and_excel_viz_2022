{
 "cells": [
  {
   "cell_type": "code",
   "execution_count": 174,
   "id": "8b3be799",
   "metadata": {},
   "outputs": [
    {
     "name": "stdout",
     "output_type": "stream",
     "text": [
      "break\n",
      "0\n",
      "1\n",
      "2\n",
      "continue\n",
      "0\n",
      "1\n",
      "2\n",
      "4\n",
      "5\n"
     ]
    }
   ],
   "source": [
    "print(\"break\")\n",
    "for i in range(6):\n",
    "    if i == 3:\n",
    "        break\n",
    "    print(i)\n",
    "\n",
    "print(\"continue\")\n",
    "for i in range(6):\n",
    "    if i == 3:\n",
    "        continue\n",
    "    print(i)"
   ]
  },
  {
   "cell_type": "code",
   "execution_count": 176,
   "id": "cbdb2d04",
   "metadata": {},
   "outputs": [],
   "source": [
    "import seaborn"
   ]
  },
  {
   "cell_type": "code",
   "execution_count": 167,
   "id": "227eb0cc",
   "metadata": {},
   "outputs": [
    {
     "name": "stdout",
     "output_type": "stream",
     "text": [
      "a is at index position 0\n",
      "b is at index position 1\n",
      "c is at index position 2\n",
      "d is at index position 3\n"
     ]
    }
   ],
   "source": [
    "str_i = \"abcde\"\n",
    "list_i = ['a','b','c','d']\n",
    "\n",
    "for index in range(len(list_i)):\n",
    "    print(list_i[index] + \" is at index position \" + str(index))"
   ]
  },
  {
   "cell_type": "code",
   "execution_count": 164,
   "id": "3f7288b3",
   "metadata": {},
   "outputs": [
    {
     "name": "stdout",
     "output_type": "stream",
     "text": [
      "Dr. Strange: Dormammu, I've come to bargain!\n",
      "Dormammu: Hi\n",
      "Dr.Strange: Ah--------\n",
      "\n",
      "\n",
      "Dr. Strange: Dormammu, I've come to bargain!\n",
      "Dormammu: No\n",
      "Dr.Strange: Ah--------\n",
      "\n",
      "\n",
      "Dr. Strange: Dormammu, I've come to bargain!\n",
      "Dormammu: Q\n",
      "Dr.Strange: Ah--------\n",
      "\n",
      "\n",
      "Dr. Strange: Dormammu, I've come to bargain!\n",
      "Dormammu: D\n",
      "Dr.Strange: Ah--------\n",
      "\n",
      "\n",
      "Dr. Strange: Dormammu, I've come to bargain!\n",
      "Dormammu: You win\n",
      "Dr. Strange: Wise choice bro!\n"
     ]
    }
   ],
   "source": [
    "\"\"\"break\"\"\"\n",
    "while True:\n",
    "    print(\"Dr. Strange: Dormammu, I've come to bargain!\")\n",
    "    Dormammu_says = input(\"Dormammu: \")\n",
    "    if Dormammu_says == 'I quit' or Dormammu_says == 'You win':\n",
    "        print('Dr. Strange: Wise choice bro!')\n",
    "        break\n",
    "    else:\n",
    "        print(\"Dr.Strange: Ah--------\")\n",
    "    print('\\n')"
   ]
  },
  {
   "cell_type": "code",
   "execution_count": 163,
   "id": "421198d2",
   "metadata": {},
   "outputs": [
    {
     "name": "stdout",
     "output_type": "stream",
     "text": [
      "0\n",
      "2\n",
      "4\n"
     ]
    }
   ],
   "source": [
    "# range(start,end,step) # end is not included\n",
    "for i in range(0,6,2):\n",
    "    print(i)"
   ]
  },
  {
   "cell_type": "code",
   "execution_count": 159,
   "id": "833b7ea3",
   "metadata": {},
   "outputs": [
    {
     "name": "stdout",
     "output_type": "stream",
     "text": [
      "Dr. Strange: Dormammu, I've come to bargain! How many times will you then quit? 5\n",
      "Dormammu: I do not quit * 1\n",
      "Dormammu: I do not quit * 2\n",
      "Dormammu: I do not quit * 3\n",
      "Dormammu: I do not quit * 4\n",
      "Dormammu: I do not quit * 5\n",
      "Dormammu: I quit, you win! \n",
      "Dr. Strange: Wise choice bro!\n"
     ]
    }
   ],
   "source": [
    "\"\"\"For Loop\"\"\"\n",
    "Dormammu_says_quit = int(input(\"Dr. Strange: Dormammu, I've come to bargain! How many times will you then quit? \"))\n",
    "\n",
    "for i in range(Dormammu_says_quit):\n",
    "    print(\"Dormammu: I do not quit * \" + str(i+1))\n",
    "\n",
    "print(\"Dormammu: I quit, you win! \")\n",
    "print('Dr. Strange: Wise choice bro!')"
   ]
  },
  {
   "cell_type": "code",
   "execution_count": 152,
   "id": "5db412a9",
   "metadata": {},
   "outputs": [
    {
     "name": "stdout",
     "output_type": "stream",
     "text": [
      "Dr. Strange: Dormammu, I've come to bargain!\n",
      "Dorammu: No\n",
      "Dr.Strange: Ah--------\n",
      "\n",
      "\n",
      "Dr. Strange: Dormammu, I've come to bargain!\n",
      "Dorammu: I quit but\n",
      "Dr.Strange: Ah--------\n",
      "\n",
      "\n",
      "Dr. Strange: Dormammu, I've come to bargain!\n",
      "Dorammu: I quit\n",
      "Dr. Stange: Wise choice bro!\n",
      "\n",
      "\n"
     ]
    }
   ],
   "source": [
    "Dormammu_quit = False\n",
    "\n",
    "while not Dormammu_quit:\n",
    "    print(\"Dr. Strange: Dormammu, I've come to bargain!\")\n",
    "    Dormammu_says = input(\"Dorammu: \")\n",
    "    if Dormammu_says == 'I quit' or Dormammu_says == 'You win':\n",
    "        Dormammu_quit = True\n",
    "        print('Dr. Stange: Wise choice bro!')\n",
    "    else:\n",
    "        print(\"Dr.Strange: Ah--------\")\n",
    "    print('\\n')"
   ]
  },
  {
   "cell_type": "code",
   "execution_count": 151,
   "id": "9b3b431f",
   "metadata": {},
   "outputs": [
    {
     "name": "stdout",
     "output_type": "stream",
     "text": [
      "Enter a value :2\n",
      "<class 'int'>\n",
      "2\n",
      "2\n"
     ]
    }
   ],
   "source": [
    "value = int(input(\"Enter a value :\"))\n",
    "\n",
    "print(type(value))\n",
    "\n",
    "if value == 1:\n",
    "    print(\"1\")\n",
    "elif value == 2:\n",
    "    print(\"2\")\n",
    "elif value == 3:\n",
    "    print(\"3\")\n",
    "else:\n",
    "    print(\"others\")\n",
    "    \n",
    "if value == 1:\n",
    "    print(\"1\")\n",
    "elif value == 2:\n",
    "    print(\"2\")\n",
    "elif value == 3:\n",
    "    print(\"3\")\n",
    "else:\n",
    "    print(\"others\") "
   ]
  },
  {
   "cell_type": "code",
   "execution_count": 146,
   "id": "3b518145",
   "metadata": {},
   "outputs": [
    {
     "data": {
      "text/plain": [
       "'value1'"
      ]
     },
     "execution_count": 146,
     "metadata": {},
     "output_type": "execute_result"
    }
   ],
   "source": [
    "# a_list = ['value1','value2']\n",
    "a_dict = {'key1':'value1',\n",
    "          'key2':'value1'}\n",
    "\n",
    "a_dict['key2']\n"
   ]
  },
  {
   "cell_type": "code",
   "execution_count": 132,
   "id": "225654e6",
   "metadata": {},
   "outputs": [
    {
     "name": "stdout",
     "output_type": "stream",
     "text": [
      "Jack Sparrow\n",
      "{'name': 'Jack Sparrow', 'age': 30, 'workplace': 'Black Pearl', 'title': 'Captain', 'status': 'single'}\n",
      "{'name': 'Jack Sparrow', 'age': 30, 'workplace': 'Black Pearl', 'title': 'Captain', 'status': 'married'}\n",
      "{'name': 'Jack Sparrow', 'age': 30, 'workplace': 'Black Pearl', 'title': 'Captain'}\n"
     ]
    }
   ],
   "source": [
    "## page 61\n",
    "personal_info = {'name': 'Jack Sparrow', \n",
    "                 'age': 30, \n",
    "                 'workplace': 'Black Pearl', \n",
    "                 'title': 'Captain'}\n",
    "\n",
    "# Accessing a value from key\n",
    "print(personal_info['name'])\n",
    "\n",
    "# Append new key:value pair\n",
    "personal_info['status'] = 'single'\n",
    "print(personal_info)\n",
    "\n",
    "# Re-assign a value to a key\n",
    "personal_info['status'] = 'married'\n",
    "print(personal_info)\n",
    "\n",
    "# remove value from dictionary\n",
    "\n",
    "## Using pop()\n",
    "personal_info.pop('status')\n",
    "print(personal_info)"
   ]
  },
  {
   "cell_type": "code",
   "execution_count": 133,
   "id": "ad04cf83",
   "metadata": {},
   "outputs": [
    {
     "ename": "AttributeError",
     "evalue": "'dict' object has no attribute 'remove'",
     "output_type": "error",
     "traceback": [
      "\u001b[1;31m---------------------------------------------------------------------------\u001b[0m",
      "\u001b[1;31mAttributeError\u001b[0m                            Traceback (most recent call last)",
      "\u001b[1;32mC:\\Users\\YANGJI~1\\AppData\\Local\\Temp/ipykernel_16080/1342604722.py\u001b[0m in \u001b[0;36m<module>\u001b[1;34m\u001b[0m\n\u001b[0;32m      4\u001b[0m                  'title': 'Captain'}\n\u001b[0;32m      5\u001b[0m \u001b[1;33m\u001b[0m\u001b[0m\n\u001b[1;32m----> 6\u001b[1;33m \u001b[0mpersonal_info\u001b[0m\u001b[1;33m.\u001b[0m\u001b[0mremove\u001b[0m\u001b[1;33m(\u001b[0m\u001b[1;34m'name'\u001b[0m\u001b[1;33m)\u001b[0m\u001b[1;33m\u001b[0m\u001b[1;33m\u001b[0m\u001b[0m\n\u001b[0m",
      "\u001b[1;31mAttributeError\u001b[0m: 'dict' object has no attribute 'remove'"
     ]
    }
   ],
   "source": [
    "personal_info = {'name': 'Jack Sparrow', \n",
    "                 'age': 30, \n",
    "                 'workplace': 'Black Pearl', \n",
    "                 'title': 'Captain'}\n",
    "\n",
    "personal_info.remove('name')"
   ]
  },
  {
   "cell_type": "code",
   "execution_count": 126,
   "id": "bc0c345f",
   "metadata": {},
   "outputs": [
    {
     "name": "stdout",
     "output_type": "stream",
     "text": [
      "Before [1, 2, 'here', 3, 4]\n",
      "[1, 2, 3, 4]\n"
     ]
    }
   ],
   "source": [
    "## page 54\n",
    "the_list = [1,2,'here',3,4]\n",
    "print(\"Before\", the_list)\n",
    "the_list.remove('here')\n",
    "print(the_list)"
   ]
  },
  {
   "cell_type": "code",
   "execution_count": 122,
   "id": "e4f109f9",
   "metadata": {},
   "outputs": [
    {
     "name": "stdout",
     "output_type": "stream",
     "text": [
      "[1, 2, 3, 4]\n",
      "[1, 2, 3, 4, 5]\n",
      "[1, 2, 3, 4, 5, 6, 7, 8, 9]\n"
     ]
    }
   ],
   "source": [
    "## page 53\n",
    "\"\"\"List methods\"\"\"\n",
    "the_list = [1,2,3,4]\n",
    "print(the_list)\n",
    "\n",
    "the_list.append(5)\n",
    "print(the_list)\n",
    "\n",
    "\n",
    "another_list = [6,7,8,9]\n",
    "the_list.extend(another_list)\n",
    "print(the_list)"
   ]
  },
  {
   "cell_type": "code",
   "execution_count": 117,
   "id": "7b73a617",
   "metadata": {},
   "outputs": [
    {
     "data": {
      "text/plain": [
       "False"
      ]
     },
     "execution_count": 117,
     "metadata": {},
     "output_type": "execute_result"
    }
   ],
   "source": [
    "a_list = ['a','b','c']\n",
    "\n",
    "b_list = ['b','a','c']\n",
    "\n",
    "a_list == b_list"
   ]
  },
  {
   "cell_type": "code",
   "execution_count": 116,
   "id": "37770ab0",
   "metadata": {},
   "outputs": [
    {
     "name": "stdout",
     "output_type": "stream",
     "text": [
      "['d', 'b', 'c']\n"
     ]
    },
    {
     "ename": "TypeError",
     "evalue": "'str' object does not support item assignment",
     "output_type": "error",
     "traceback": [
      "\u001b[1;31m---------------------------------------------------------------------------\u001b[0m",
      "\u001b[1;31mTypeError\u001b[0m                                 Traceback (most recent call last)",
      "\u001b[1;32mC:\\Users\\YANGJI~1\\AppData\\Local\\Temp/ipykernel_16080/2125835772.py\u001b[0m in \u001b[0;36m<module>\u001b[1;34m\u001b[0m\n\u001b[0;32m      5\u001b[0m \u001b[1;33m\u001b[0m\u001b[0m\n\u001b[0;32m      6\u001b[0m \u001b[0ma_str\u001b[0m \u001b[1;33m=\u001b[0m \u001b[1;34m'abc'\u001b[0m\u001b[1;33m\u001b[0m\u001b[1;33m\u001b[0m\u001b[0m\n\u001b[1;32m----> 7\u001b[1;33m \u001b[0ma_str\u001b[0m\u001b[1;33m[\u001b[0m\u001b[1;36m0\u001b[0m\u001b[1;33m]\u001b[0m \u001b[1;33m=\u001b[0m \u001b[1;34m'd'\u001b[0m\u001b[1;33m\u001b[0m\u001b[1;33m\u001b[0m\u001b[0m\n\u001b[0m",
      "\u001b[1;31mTypeError\u001b[0m: 'str' object does not support item assignment"
     ]
    }
   ],
   "source": [
    "a_list = ['a','b','c']\n",
    "\n",
    "a_list[0] = 'd'\n",
    "print(a_list)\n",
    "\n",
    "a_str = 'abc'\n",
    "a_str[0] = 'd'"
   ]
  },
  {
   "cell_type": "code",
   "execution_count": 114,
   "id": "675e5635",
   "metadata": {},
   "outputs": [
    {
     "data": {
      "text/plain": [
       "5"
      ]
     },
     "execution_count": 114,
     "metadata": {},
     "output_type": "execute_result"
    }
   ],
   "source": [
    "a_list = ['a','b','c',1,2]\n",
    "\n",
    "len(a_list)"
   ]
  },
  {
   "cell_type": "code",
   "execution_count": 108,
   "id": "dbb2456e",
   "metadata": {},
   "outputs": [
    {
     "name": "stdout",
     "output_type": "stream",
     "text": [
      "6\n",
      "9\n",
      "-1\n"
     ]
    }
   ],
   "source": [
    "## page 49\n",
    "\"\"\"Find a character in a string\"\"\"\n",
    "\n",
    "greetings = \"Hello DAO2702\"\n",
    "\n",
    "print(greetings.find(\"DAO\"))\n",
    "print(greetings.find(\"2\"))\n",
    "print(greetings.find(\"3\"))"
   ]
  },
  {
   "cell_type": "code",
   "execution_count": 104,
   "id": "16c5a27b",
   "metadata": {},
   "outputs": [
    {
     "name": "stdout",
     "output_type": "stream",
     "text": [
      "12\n",
      "asy qu\n"
     ]
    }
   ],
   "source": [
    "greetings = \"an easy quiz\"\n",
    "\n",
    "print(len(greetings))\n",
    "print(greetings[-8:-2])"
   ]
  },
  {
   "cell_type": "code",
   "execution_count": 88,
   "id": "7cb1c6f4",
   "metadata": {},
   "outputs": [
    {
     "name": "stdout",
     "output_type": "stream",
     "text": [
      "10\n",
      "012345\n",
      "012345\n",
      "012345\n",
      "56789\n",
      "56789\n",
      "56789\n",
      "02468\n",
      "02468\n"
     ]
    }
   ],
   "source": [
    "greetings = \"0123456789\"\n",
    "\n",
    "print(len(greetings))\n",
    "\n",
    "# string to middle\n",
    "print(greetings[0:6:1])\n",
    "print(greetings[:6:])\n",
    "print(greetings[:6])\n",
    "\n",
    "# from middle to end\n",
    "print(greetings[5:11:1])\n",
    "print(greetings[5::])\n",
    "print(greetings[5:])\n",
    "\n",
    "# show step of 2\n",
    "print(greetings[0:11:2])\n",
    "print(greetings[::2])"
   ]
  },
  {
   "cell_type": "code",
   "execution_count": 57,
   "id": "d0902052",
   "metadata": {},
   "outputs": [
    {
     "name": "stdout",
     "output_type": "stream",
     "text": [
      "Type something: 2\n",
      "Your input is: 20\n"
     ]
    },
    {
     "data": {
      "text/plain": [
       "'\\nint(expression) : convert expressiton to int\\nfloat(expression) : convert expressiton to float\\nstr(expression) : convert expressiton to str\\n'"
      ]
     },
     "execution_count": 57,
     "metadata": {},
     "output_type": "execute_result"
    }
   ],
   "source": [
    "## page 28 - 29\n",
    "# Example 3\n",
    "\n",
    "input_str = input(\"Type something: \")\n",
    "\n",
    "print('Your input is: ' + str(int(input_str)*10))\n",
    "\n",
    "'''\n",
    "int(expression) : convert expressiton to int\n",
    "float(expression) : convert expressiton to float\n",
    "str(expression) : convert expressiton to str\n",
    "'''"
   ]
  },
  {
   "cell_type": "code",
   "execution_count": 49,
   "id": "12ef6d25",
   "metadata": {},
   "outputs": [
    {
     "name": "stdout",
     "output_type": "stream",
     "text": [
      "<class 'int'>\n",
      "<class 'float'>\n",
      "<class 'complex'>\n"
     ]
    }
   ],
   "source": [
    "x = 3 # int\n",
    "y = 3.0 # float\n",
    "z = 3j # complex\n",
    "print(type(x))\n",
    "print(type(y))\n",
    "print(type(z))"
   ]
  },
  {
   "cell_type": "code",
   "execution_count": 3,
   "id": "22426e44",
   "metadata": {},
   "outputs": [
    {
     "data": {
      "text/plain": [
       "3"
      ]
     },
     "execution_count": 3,
     "metadata": {},
     "output_type": "execute_result"
    }
   ],
   "source": [
    "1 + 2"
   ]
  },
  {
   "cell_type": "markdown",
   "id": "b621f7b6",
   "metadata": {},
   "source": [
    "# Heading1\n",
    "## Heading2\n",
    "- Bullet Point\n",
    "\n",
    "1. Numbered Point\n",
    "2. Numbered 2\n",
    "\n",
    "Hello THis is Yang Jing"
   ]
  },
  {
   "cell_type": "code",
   "execution_count": 7,
   "id": "38b3139e",
   "metadata": {},
   "outputs": [
    {
     "data": {
      "text/plain": [
       "22.0"
      ]
     },
     "execution_count": 7,
     "metadata": {},
     "output_type": "execute_result"
    }
   ],
   "source": [
    "(2+3.5) * 6 / (1.75-0.25)"
   ]
  },
  {
   "cell_type": "code",
   "execution_count": 5,
   "id": "87d8000e",
   "metadata": {},
   "outputs": [
    {
     "data": {
      "text/plain": [
       "8"
      ]
     },
     "execution_count": 5,
     "metadata": {},
     "output_type": "execute_result"
    }
   ],
   "source": [
    "2 ** 3"
   ]
  },
  {
   "cell_type": "code",
   "execution_count": 26,
   "id": "1aca7a55",
   "metadata": {},
   "outputs": [],
   "source": [
    "storage = storage*(1-dump_rate) - sold"
   ]
  },
  {
   "cell_type": "code",
   "execution_count": 27,
   "id": "4d6ec17e",
   "metadata": {},
   "outputs": [
    {
     "name": "stdout",
     "output_type": "stream",
     "text": [
      "New Storage is  245.0\n"
     ]
    }
   ],
   "source": [
    "print(\"New Storage is \",storage)"
   ]
  },
  {
   "cell_type": "code",
   "execution_count": 28,
   "id": "448818be",
   "metadata": {},
   "outputs": [
    {
     "name": "stdout",
     "output_type": "stream",
     "text": [
      "New Storage is  245.0\n"
     ]
    }
   ],
   "source": [
    "storage = 500\n",
    "dump_rate = 0.05\n",
    "sold = 230\n",
    "\n",
    "# print(storage*(1-dump_rate) - sold)\n",
    "\n",
    "# Single Line Comment\n",
    "storage\n",
    "\n",
    "\"\"\"\n",
    "Multiline Comment\n",
    "\n",
    "Everything within here is commented out\n",
    "\n",
    "\"\"\"\n",
    "\n",
    "storage = storage*(1-dump_rate) - sold\n",
    "print(\"New Storage is \",storage)"
   ]
  },
  {
   "cell_type": "code",
   "execution_count": 32,
   "id": "4689a83f",
   "metadata": {},
   "outputs": [
    {
     "name": "stdout",
     "output_type": "stream",
     "text": [
      "Key in your Name: enter\n",
      "Hello enter\n"
     ]
    }
   ],
   "source": [
    "## page 21\n",
    "# Example 2 - input\n",
    "greetings = 'Hello '\n",
    "name = input('Key in your Name: ') # Assignment the output of input to name\n",
    "\n",
    "print(greetings + name)"
   ]
  }
 ],
 "metadata": {
  "kernelspec": {
   "display_name": "Python 3 (ipykernel)",
   "language": "python",
   "name": "python3"
  },
  "language_info": {
   "codemirror_mode": {
    "name": "ipython",
    "version": 3
   },
   "file_extension": ".py",
   "mimetype": "text/x-python",
   "name": "python",
   "nbconvert_exporter": "python",
   "pygments_lexer": "ipython3",
   "version": "3.8.12"
  }
 },
 "nbformat": 4,
 "nbformat_minor": 5
}
